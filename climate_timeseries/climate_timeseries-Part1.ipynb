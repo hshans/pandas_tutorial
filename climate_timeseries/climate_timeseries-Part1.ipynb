{
 "cells": [
  {
   "cell_type": "markdown",
   "metadata": {},
   "source": [
    "Last updated: June 29th 2016"
   ]
  },
  {
   "cell_type": "markdown",
   "metadata": {},
   "source": [
    "# Climate data exploration: a journey through Pandas"
   ]
  },
  {
   "cell_type": "markdown",
   "metadata": {},
   "source": [
    "Welcome to a demo of Python's data analysis package called `Pandas`. Our goal is to learn about Data Analysis and transformation using Pandas while exploring datasets used to analyze climate change. "
   ]
  },
  {
   "cell_type": "markdown",
   "metadata": {},
   "source": [
    "## The story"
   ]
  },
  {
   "cell_type": "markdown",
   "metadata": {},
   "source": [
    "The global goal of this demo is to provide the tools to be able to try and reproduce some of the analysis done in the IPCC global climate reports published in the last decade (see for example https://www.ipcc.ch/pdf/assessment-report/ar5/syr/SYR_AR5_FINAL_full.pdf). \n",
    "\n",
    "We are first going to load a few public datasets containing information about global temperature, global and local sea level infomation, and global concentration of greenhouse gases like CO2, to see if there are correlations and how the trends are to evolve, assuming no fundamental change in the system. For all these datasets, we will download them, visualize them, clean them, search through them, merge them, resample them, transform them and summarize them."
   ]
  },
  {
   "cell_type": "markdown",
   "metadata": {},
   "source": [
    "In the process, we will learn about:\n",
    "\n",
    "Part 1:\n",
    "\n",
    "    1. Loading data\n",
    "    2. Pandas datastructures\n",
    "    3. Cleaning and formatting data\n",
    "    4. Basic visualization\n",
    "   \n",
    "Part 2:\n",
    "\n",
    "    5. Accessing data\n",
    "    6. Working with dates and times\n",
    "    7. Transforming datasets\n",
    "    8. Statistical analysis\n",
    "    9. Data agregation and summarization\n",
    "    10. Correlations and regressions\n",
    "    11. Predictions from auto regression models"
   ]
  },
  {
   "cell_type": "markdown",
   "metadata": {},
   "source": [
    "## Some initial setup"
   ]
  },
  {
   "cell_type": "code",
   "execution_count": 2,
   "metadata": {
    "collapsed": false
   },
   "outputs": [],
   "source": [
    "%matplotlib inline\n",
    "import pandas as pd\n",
    "\n",
    "import numpy as np\n",
    "import matplotlib.pyplot as plt\n",
    "\n",
    "pd.set_option(\"display.max_rows\", 16)\n",
    "\n",
    "LARGE_FIGSIZE = (12, 8)"
   ]
  },
  {
   "cell_type": "code",
   "execution_count": 9,
   "metadata": {
    "collapsed": false
   },
   "outputs": [
    {
     "name": "stdout",
     "output_type": "stream",
     "text": [
      "/home/hans/Desktop/pandas_tutorial/climate_timeseries\n",
      "climate_timeseries-Part1.ipynb  climate_timeseries-Part2.ipynb  \u001b[0m\u001b[01;34mdata\u001b[0m/  \u001b[01;34msandbox\u001b[0m/\r\n"
     ]
    }
   ],
   "source": [
    "# Change this cell to the demo location on YOUR machine\n",
    "%cd ~/Desktop/pandas_tutorial/climate_timeseries/\n",
    "%ls"
   ]
  },
  {
   "cell_type": "markdown",
   "metadata": {},
   "source": [
    "## 1. Loading data"
   ]
  },
  {
   "cell_type": "markdown",
   "metadata": {},
   "source": [
    "More details, see http://pandas.pydata.org/pandas-docs/stable/io.html"
   ]
  },
  {
   "cell_type": "markdown",
   "metadata": {},
   "source": [
    "To find all reading functions in pandas, ask ipython's tab completion:"
   ]
  },
  {
   "cell_type": "code",
   "execution_count": 10,
   "metadata": {
    "collapsed": false
   },
   "outputs": [],
   "source": [
    "#pd.read_<TAB>"
   ]
  },
  {
   "cell_type": "code",
   "execution_count": 11,
   "metadata": {
    "collapsed": false
   },
   "outputs": [],
   "source": [
    "pd.read_table?"
   ]
  },
  {
   "cell_type": "markdown",
   "metadata": {},
   "source": [
    "### From a local text file"
   ]
  },
  {
   "cell_type": "markdown",
   "metadata": {},
   "source": [
    "Let's first load some temperature data which covers all lattitudes. Since read_table is supposed to do the job for a text file, let's just try it:"
   ]
  },
  {
   "cell_type": "code",
   "execution_count": 12,
   "metadata": {
    "collapsed": false
   },
   "outputs": [
    {
     "data": {
      "text/html": [
       "<div>\n",
       "<table border=\"1\" class=\"dataframe\">\n",
       "  <thead>\n",
       "    <tr style=\"text-align: right;\">\n",
       "      <th></th>\n",
       "      <th>1880   -0.1591</th>\n",
       "    </tr>\n",
       "  </thead>\n",
       "  <tbody>\n",
       "    <tr>\n",
       "      <th>0</th>\n",
       "      <td>1881   -0.0789</td>\n",
       "    </tr>\n",
       "    <tr>\n",
       "      <th>1</th>\n",
       "      <td>1882   -0.1313</td>\n",
       "    </tr>\n",
       "    <tr>\n",
       "      <th>2</th>\n",
       "      <td>1883   -0.1675</td>\n",
       "    </tr>\n",
       "    <tr>\n",
       "      <th>3</th>\n",
       "      <td>1884   -0.2485</td>\n",
       "    </tr>\n",
       "    <tr>\n",
       "      <th>4</th>\n",
       "      <td>1885   -0.2042</td>\n",
       "    </tr>\n",
       "  </tbody>\n",
       "</table>\n",
       "</div>"
      ],
      "text/plain": [
       "   1880   -0.1591\n",
       "0  1881   -0.0789\n",
       "1  1882   -0.1313\n",
       "2  1883   -0.1675\n",
       "3  1884   -0.2485\n",
       "4  1885   -0.2042"
      ]
     },
     "execution_count": 12,
     "metadata": {},
     "output_type": "execute_result"
    }
   ],
   "source": [
    "filename = \"data/temperatures/annual.land_ocean.90S.90N.df_1901-2000mean.dat\"\n",
    "full_globe_temp = pd.read_table(filename)\n",
    "full_globe_temp.head()"
   ]
  },
  {
   "cell_type": "markdown",
   "metadata": {},
   "source": [
    "There is only 1 column! Let's try again stating that values are separated by any number of spaces:"
   ]
  },
  {
   "cell_type": "code",
   "execution_count": 13,
   "metadata": {
    "collapsed": false
   },
   "outputs": [
    {
     "data": {
      "text/html": [
       "<div>\n",
       "<table border=\"1\" class=\"dataframe\">\n",
       "  <thead>\n",
       "    <tr style=\"text-align: right;\">\n",
       "      <th></th>\n",
       "      <th>1880</th>\n",
       "      <th>-0.1591</th>\n",
       "    </tr>\n",
       "  </thead>\n",
       "  <tbody>\n",
       "    <tr>\n",
       "      <th>0</th>\n",
       "      <td>1881</td>\n",
       "      <td>-0.0789</td>\n",
       "    </tr>\n",
       "    <tr>\n",
       "      <th>1</th>\n",
       "      <td>1882</td>\n",
       "      <td>-0.1313</td>\n",
       "    </tr>\n",
       "    <tr>\n",
       "      <th>2</th>\n",
       "      <td>1883</td>\n",
       "      <td>-0.1675</td>\n",
       "    </tr>\n",
       "    <tr>\n",
       "      <th>3</th>\n",
       "      <td>1884</td>\n",
       "      <td>-0.2485</td>\n",
       "    </tr>\n",
       "    <tr>\n",
       "      <th>4</th>\n",
       "      <td>1885</td>\n",
       "      <td>-0.2042</td>\n",
       "    </tr>\n",
       "  </tbody>\n",
       "</table>\n",
       "</div>"
      ],
      "text/plain": [
       "   1880  -0.1591\n",
       "0  1881  -0.0789\n",
       "1  1882  -0.1313\n",
       "2  1883  -0.1675\n",
       "3  1884  -0.2485\n",
       "4  1885  -0.2042"
      ]
     },
     "execution_count": 13,
     "metadata": {},
     "output_type": "execute_result"
    }
   ],
   "source": [
    "full_globe_temp = pd.read_table(filename, sep=\"\\s+\")\n",
    "full_globe_temp.head()"
   ]
  },
  {
   "cell_type": "markdown",
   "metadata": {},
   "source": [
    "There are columns but the column names are 1880 and -0.1591!"
   ]
  },
  {
   "cell_type": "code",
   "execution_count": 36,
   "metadata": {
    "collapsed": false
   },
   "outputs": [
    {
     "data": {
      "text/html": [
       "<div>\n",
       "<table border=\"1\" class=\"dataframe\">\n",
       "  <thead>\n",
       "    <tr style=\"text-align: right;\">\n",
       "      <th></th>\n",
       "      <th>year</th>\n",
       "      <th>mean temp</th>\n",
       "    </tr>\n",
       "  </thead>\n",
       "  <tbody>\n",
       "    <tr>\n",
       "      <th>0</th>\n",
       "      <td>1880</td>\n",
       "      <td>-0.1591</td>\n",
       "    </tr>\n",
       "    <tr>\n",
       "      <th>1</th>\n",
       "      <td>1881</td>\n",
       "      <td>-0.0789</td>\n",
       "    </tr>\n",
       "    <tr>\n",
       "      <th>2</th>\n",
       "      <td>1882</td>\n",
       "      <td>-0.1313</td>\n",
       "    </tr>\n",
       "    <tr>\n",
       "      <th>3</th>\n",
       "      <td>1883</td>\n",
       "      <td>-0.1675</td>\n",
       "    </tr>\n",
       "    <tr>\n",
       "      <th>4</th>\n",
       "      <td>1884</td>\n",
       "      <td>-0.2485</td>\n",
       "    </tr>\n",
       "  </tbody>\n",
       "</table>\n",
       "</div>"
      ],
      "text/plain": [
       "   year  mean temp\n",
       "0  1880    -0.1591\n",
       "1  1881    -0.0789\n",
       "2  1882    -0.1313\n",
       "3  1883    -0.1675\n",
       "4  1884    -0.2485"
      ]
     },
     "execution_count": 36,
     "metadata": {},
     "output_type": "execute_result"
    }
   ],
   "source": [
    "full_globe_temp = pd.read_table(filename, sep=\"\\s+\", names=[\"year\", \"mean temp\"])\n",
    "full_globe_temp.head()"
   ]
  },
  {
   "cell_type": "markdown",
   "metadata": {},
   "source": [
    "Since we only have 2 columns, one of which would be nicer to access the data (the year of the record), let's try using the `index_col` option:"
   ]
  },
  {
   "cell_type": "code",
   "execution_count": 15,
   "metadata": {
    "collapsed": false
   },
   "outputs": [
    {
     "data": {
      "text/html": [
       "<div>\n",
       "<table border=\"1\" class=\"dataframe\">\n",
       "  <thead>\n",
       "    <tr style=\"text-align: right;\">\n",
       "      <th></th>\n",
       "      <th>mean temp</th>\n",
       "    </tr>\n",
       "    <tr>\n",
       "      <th>year</th>\n",
       "      <th></th>\n",
       "    </tr>\n",
       "  </thead>\n",
       "  <tbody>\n",
       "    <tr>\n",
       "      <th>1880</th>\n",
       "      <td>-0.1591</td>\n",
       "    </tr>\n",
       "    <tr>\n",
       "      <th>1881</th>\n",
       "      <td>-0.0789</td>\n",
       "    </tr>\n",
       "    <tr>\n",
       "      <th>1882</th>\n",
       "      <td>-0.1313</td>\n",
       "    </tr>\n",
       "    <tr>\n",
       "      <th>1883</th>\n",
       "      <td>-0.1675</td>\n",
       "    </tr>\n",
       "    <tr>\n",
       "      <th>1884</th>\n",
       "      <td>-0.2485</td>\n",
       "    </tr>\n",
       "  </tbody>\n",
       "</table>\n",
       "</div>"
      ],
      "text/plain": [
       "      mean temp\n",
       "year           \n",
       "1880    -0.1591\n",
       "1881    -0.0789\n",
       "1882    -0.1313\n",
       "1883    -0.1675\n",
       "1884    -0.2485"
      ]
     },
     "execution_count": 15,
     "metadata": {},
     "output_type": "execute_result"
    }
   ],
   "source": [
    "full_globe_temp = pd.read_table(filename, sep=\"\\s+\", names=[\"year\", \"mean temp\"], \n",
    "                                index_col=0)\n",
    "full_globe_temp.head()"
   ]
  },
  {
   "cell_type": "markdown",
   "metadata": {},
   "source": [
    "Last step: the index is made of dates. Let's make that explicit:"
   ]
  },
  {
   "cell_type": "code",
   "execution_count": 16,
   "metadata": {
    "collapsed": false
   },
   "outputs": [
    {
     "data": {
      "text/html": [
       "<div>\n",
       "<table border=\"1\" class=\"dataframe\">\n",
       "  <thead>\n",
       "    <tr style=\"text-align: right;\">\n",
       "      <th></th>\n",
       "      <th>mean temp</th>\n",
       "    </tr>\n",
       "    <tr>\n",
       "      <th>year</th>\n",
       "      <th></th>\n",
       "    </tr>\n",
       "  </thead>\n",
       "  <tbody>\n",
       "    <tr>\n",
       "      <th>1880-01-01</th>\n",
       "      <td>-0.1591</td>\n",
       "    </tr>\n",
       "    <tr>\n",
       "      <th>1881-01-01</th>\n",
       "      <td>-0.0789</td>\n",
       "    </tr>\n",
       "    <tr>\n",
       "      <th>1882-01-01</th>\n",
       "      <td>-0.1313</td>\n",
       "    </tr>\n",
       "    <tr>\n",
       "      <th>1883-01-01</th>\n",
       "      <td>-0.1675</td>\n",
       "    </tr>\n",
       "    <tr>\n",
       "      <th>1884-01-01</th>\n",
       "      <td>-0.2485</td>\n",
       "    </tr>\n",
       "  </tbody>\n",
       "</table>\n",
       "</div>"
      ],
      "text/plain": [
       "            mean temp\n",
       "year                 \n",
       "1880-01-01    -0.1591\n",
       "1881-01-01    -0.0789\n",
       "1882-01-01    -0.1313\n",
       "1883-01-01    -0.1675\n",
       "1884-01-01    -0.2485"
      ]
     },
     "execution_count": 16,
     "metadata": {},
     "output_type": "execute_result"
    }
   ],
   "source": [
    "full_globe_temp = pd.read_table(filename, sep=\"\\s+\", names=[\"year\", \"mean temp\"], \n",
    "                                index_col=0, parse_dates=True)\n",
    "full_globe_temp.head()"
   ]
  },
  {
   "cell_type": "markdown",
   "metadata": {},
   "source": [
    "### From a chunked file"
   ]
  },
  {
   "cell_type": "markdown",
   "metadata": {},
   "source": [
    "Since every dataset can contain mistakes, let's load a different file with temperature data. NASA's GISS dataset is written in chunks: look at it in `data/temperatures/GLB.Ts+dSST.txt`"
   ]
  },
  {
   "cell_type": "code",
   "execution_count": 17,
   "metadata": {
    "collapsed": false
   },
   "outputs": [
    {
     "data": {
      "text/html": [
       "<div>\n",
       "<table border=\"1\" class=\"dataframe\">\n",
       "  <thead>\n",
       "    <tr style=\"text-align: right;\">\n",
       "      <th></th>\n",
       "      <th>Year</th>\n",
       "      <th>Jan</th>\n",
       "      <th>Feb</th>\n",
       "      <th>Mar</th>\n",
       "      <th>Apr</th>\n",
       "      <th>May</th>\n",
       "      <th>Jun</th>\n",
       "      <th>Jul</th>\n",
       "      <th>Aug</th>\n",
       "      <th>Sep</th>\n",
       "      <th>Oct</th>\n",
       "      <th>Nov</th>\n",
       "      <th>Dec</th>\n",
       "      <th>J-D</th>\n",
       "      <th>D-N</th>\n",
       "      <th>DJF</th>\n",
       "      <th>MAM</th>\n",
       "      <th>JJA</th>\n",
       "      <th>SON</th>\n",
       "      <th>Year.1</th>\n",
       "    </tr>\n",
       "  </thead>\n",
       "  <tbody>\n",
       "    <tr>\n",
       "      <th>0</th>\n",
       "      <td>1880</td>\n",
       "      <td>-34</td>\n",
       "      <td>-27</td>\n",
       "      <td>-22</td>\n",
       "      <td>-30</td>\n",
       "      <td>-16</td>\n",
       "      <td>-24</td>\n",
       "      <td>-19</td>\n",
       "      <td>-12</td>\n",
       "      <td>-20</td>\n",
       "      <td>-19</td>\n",
       "      <td>-16</td>\n",
       "      <td>-21</td>\n",
       "      <td>-22</td>\n",
       "      <td>***</td>\n",
       "      <td>****</td>\n",
       "      <td>-23</td>\n",
       "      <td>-18</td>\n",
       "      <td>-18</td>\n",
       "      <td>1880</td>\n",
       "    </tr>\n",
       "    <tr>\n",
       "      <th>1</th>\n",
       "      <td>1881</td>\n",
       "      <td>-13</td>\n",
       "      <td>-16</td>\n",
       "      <td>-2</td>\n",
       "      <td>-3</td>\n",
       "      <td>-3</td>\n",
       "      <td>-27</td>\n",
       "      <td>-12</td>\n",
       "      <td>-8</td>\n",
       "      <td>-18</td>\n",
       "      <td>-23</td>\n",
       "      <td>-28</td>\n",
       "      <td>-18</td>\n",
       "      <td>-14</td>\n",
       "      <td>-14</td>\n",
       "      <td>-17</td>\n",
       "      <td>-3</td>\n",
       "      <td>-15</td>\n",
       "      <td>-23</td>\n",
       "      <td>1881</td>\n",
       "    </tr>\n",
       "    <tr>\n",
       "      <th>2</th>\n",
       "      <td>1882</td>\n",
       "      <td>3</td>\n",
       "      <td>4</td>\n",
       "      <td>-2</td>\n",
       "      <td>-24</td>\n",
       "      <td>-20</td>\n",
       "      <td>-32</td>\n",
       "      <td>-27</td>\n",
       "      <td>-11</td>\n",
       "      <td>-11</td>\n",
       "      <td>-25</td>\n",
       "      <td>-25</td>\n",
       "      <td>-37</td>\n",
       "      <td>-17</td>\n",
       "      <td>-16</td>\n",
       "      <td>-4</td>\n",
       "      <td>-15</td>\n",
       "      <td>-23</td>\n",
       "      <td>-20</td>\n",
       "      <td>1882</td>\n",
       "    </tr>\n",
       "    <tr>\n",
       "      <th>3</th>\n",
       "      <td>1883</td>\n",
       "      <td>-38</td>\n",
       "      <td>-38</td>\n",
       "      <td>-12</td>\n",
       "      <td>-20</td>\n",
       "      <td>-20</td>\n",
       "      <td>-8</td>\n",
       "      <td>-3</td>\n",
       "      <td>-13</td>\n",
       "      <td>-19</td>\n",
       "      <td>-19</td>\n",
       "      <td>-28</td>\n",
       "      <td>-21</td>\n",
       "      <td>-20</td>\n",
       "      <td>-21</td>\n",
       "      <td>-38</td>\n",
       "      <td>-18</td>\n",
       "      <td>-8</td>\n",
       "      <td>-22</td>\n",
       "      <td>1883</td>\n",
       "    </tr>\n",
       "    <tr>\n",
       "      <th>4</th>\n",
       "      <td>1884</td>\n",
       "      <td>-20</td>\n",
       "      <td>-14</td>\n",
       "      <td>-31</td>\n",
       "      <td>-36</td>\n",
       "      <td>-33</td>\n",
       "      <td>-36</td>\n",
       "      <td>-31</td>\n",
       "      <td>-24</td>\n",
       "      <td>-29</td>\n",
       "      <td>-25</td>\n",
       "      <td>-29</td>\n",
       "      <td>-25</td>\n",
       "      <td>-28</td>\n",
       "      <td>-28</td>\n",
       "      <td>-18</td>\n",
       "      <td>-33</td>\n",
       "      <td>-31</td>\n",
       "      <td>-28</td>\n",
       "      <td>1884</td>\n",
       "    </tr>\n",
       "  </tbody>\n",
       "</table>\n",
       "</div>"
      ],
      "text/plain": [
       "   Year  Jan  Feb  Mar  Apr  May  Jun  Jul  Aug  Sep  Oct  Nov  Dec  J-D  D-N  \\\n",
       "0  1880  -34  -27  -22  -30  -16  -24  -19  -12  -20  -19  -16  -21  -22  ***   \n",
       "1  1881  -13  -16   -2   -3   -3  -27  -12   -8  -18  -23  -28  -18  -14  -14   \n",
       "2  1882    3    4   -2  -24  -20  -32  -27  -11  -11  -25  -25  -37  -17  -16   \n",
       "3  1883  -38  -38  -12  -20  -20   -8   -3  -13  -19  -19  -28  -21  -20  -21   \n",
       "4  1884  -20  -14  -31  -36  -33  -36  -31  -24  -29  -25  -29  -25  -28  -28   \n",
       "\n",
       "    DJF  MAM  JJA  SON Year.1  \n",
       "0  ****  -23  -18  -18   1880  \n",
       "1   -17   -3  -15  -23   1881  \n",
       "2    -4  -15  -23  -20   1882  \n",
       "3   -38  -18   -8  -22   1883  \n",
       "4   -18  -33  -31  -28   1884  "
      ]
     },
     "execution_count": 17,
     "metadata": {},
     "output_type": "execute_result"
    }
   ],
   "source": [
    "giss_temp = pd.read_table(\"data/temperatures/GLB.Ts+dSST.txt\", sep=\"\\s+\", skiprows=7,\n",
    "                          skip_footer=11, engine=\"python\")\n",
    "giss_temp.head()"
   ]
  },
  {
   "cell_type": "markdown",
   "metadata": {},
   "source": [
    "**QUIZ:** What happens if you remove the `skiprows`? `skipfooter`? `engine`?"
   ]
  },
  {
   "cell_type": "markdown",
   "metadata": {},
   "source": [
    "**EXERCISE:** Load some readings of CO2 concentrations in the atmosphere from the `data/greenhouse_gaz/co2_mm_global.txt` data file."
   ]
  },
  {
   "cell_type": "code",
   "execution_count": 18,
   "metadata": {
    "collapsed": false
   },
   "outputs": [
    {
     "data": {
      "text/html": [
       "<div>\n",
       "<table border=\"1\" class=\"dataframe\">\n",
       "  <thead>\n",
       "    <tr style=\"text-align: right;\">\n",
       "      <th></th>\n",
       "      <th>decimal</th>\n",
       "      <th>average</th>\n",
       "      <th>trend</th>\n",
       "    </tr>\n",
       "    <tr>\n",
       "      <th>year_month</th>\n",
       "      <th></th>\n",
       "      <th></th>\n",
       "      <th></th>\n",
       "    </tr>\n",
       "  </thead>\n",
       "  <tbody>\n",
       "    <tr>\n",
       "      <th>1980-01-01</th>\n",
       "      <td>1980.042</td>\n",
       "      <td>338.45</td>\n",
       "      <td>337.82</td>\n",
       "    </tr>\n",
       "    <tr>\n",
       "      <th>1980-02-01</th>\n",
       "      <td>1980.125</td>\n",
       "      <td>339.17</td>\n",
       "      <td>338.12</td>\n",
       "    </tr>\n",
       "    <tr>\n",
       "      <th>1980-03-01</th>\n",
       "      <td>1980.208</td>\n",
       "      <td>339.49</td>\n",
       "      <td>338.14</td>\n",
       "    </tr>\n",
       "    <tr>\n",
       "      <th>1980-04-01</th>\n",
       "      <td>1980.292</td>\n",
       "      <td>339.87</td>\n",
       "      <td>338.25</td>\n",
       "    </tr>\n",
       "    <tr>\n",
       "      <th>1980-05-01</th>\n",
       "      <td>1980.375</td>\n",
       "      <td>340.30</td>\n",
       "      <td>338.78</td>\n",
       "    </tr>\n",
       "  </tbody>\n",
       "</table>\n",
       "</div>"
      ],
      "text/plain": [
       "             decimal  average   trend\n",
       "year_month                           \n",
       "1980-01-01  1980.042   338.45  337.82\n",
       "1980-02-01  1980.125   339.17  338.12\n",
       "1980-03-01  1980.208   339.49  338.14\n",
       "1980-04-01  1980.292   339.87  338.25\n",
       "1980-05-01  1980.375   340.30  338.78"
      ]
     },
     "execution_count": 18,
     "metadata": {},
     "output_type": "execute_result"
    }
   ],
   "source": [
    "co2_mm_global = pd.read_table('data/greenhouse_gaz/co2_mm_global.txt', sep = '\\s+'\n",
    "                              , parse_dates = [[0,1]], index_col = 0)\n",
    "co2_mm_global.head()"
   ]
  },
  {
   "cell_type": "markdown",
   "metadata": {},
   "source": [
    "### From a remote text file"
   ]
  },
  {
   "cell_type": "markdown",
   "metadata": {},
   "source": [
    "So far, we have only loaded temperature datasets. Climate change also affects the sea levels on the globe. Let's load some datasets with the sea levels. The university of colorado posts updated timeseries for mean sea level globably, per \n",
    "hemisphere, or even per ocean, sea, ... Let's download the global one, and the ones for the northern and southern hemisphere."
   ]
  },
  {
   "cell_type": "markdown",
   "metadata": {},
   "source": [
    "That will also illustrate that to load text files that are online, there is no more work than replacing the filepath by a URL n `read_table`:"
   ]
  },
  {
   "cell_type": "code",
   "execution_count": 19,
   "metadata": {
    "collapsed": false
   },
   "outputs": [
    {
     "data": {
      "text/html": [
       "<div>\n",
       "<table border=\"1\" class=\"dataframe\">\n",
       "  <thead>\n",
       "    <tr style=\"text-align: right;\">\n",
       "      <th></th>\n",
       "      <th>year</th>\n",
       "      <th>msl_ib(mm)</th>\n",
       "      <th>#version_2016_rel3</th>\n",
       "    </tr>\n",
       "  </thead>\n",
       "  <tbody>\n",
       "    <tr>\n",
       "      <th>0</th>\n",
       "      <td>1992.9323</td>\n",
       "      <td>13.717</td>\n",
       "      <td>NaN</td>\n",
       "    </tr>\n",
       "    <tr>\n",
       "      <th>1</th>\n",
       "      <td>1992.9595</td>\n",
       "      <td>1.328</td>\n",
       "      <td>NaN</td>\n",
       "    </tr>\n",
       "    <tr>\n",
       "      <th>2</th>\n",
       "      <td>1992.9866</td>\n",
       "      <td>-13.375</td>\n",
       "      <td>NaN</td>\n",
       "    </tr>\n",
       "    <tr>\n",
       "      <th>3</th>\n",
       "      <td>1993.0138</td>\n",
       "      <td>-24.723</td>\n",
       "      <td>NaN</td>\n",
       "    </tr>\n",
       "    <tr>\n",
       "      <th>4</th>\n",
       "      <td>1993.0409</td>\n",
       "      <td>-29.231</td>\n",
       "      <td>NaN</td>\n",
       "    </tr>\n",
       "  </tbody>\n",
       "</table>\n",
       "</div>"
      ],
      "text/plain": [
       "        year  msl_ib(mm)  #version_2016_rel3\n",
       "0  1992.9323      13.717                 NaN\n",
       "1  1992.9595       1.328                 NaN\n",
       "2  1992.9866     -13.375                 NaN\n",
       "3  1993.0138     -24.723                 NaN\n",
       "4  1993.0409     -29.231                 NaN"
      ]
     },
     "execution_count": 19,
     "metadata": {},
     "output_type": "execute_result"
    }
   ],
   "source": [
    "# Local backup: data/sea_levels/sl_nh.txt\n",
    "northern_sea_level = pd.read_table(\"http://sealevel.colorado.edu/files/current/sl_nh.txt\", \n",
    "                                   sep=\"\\s+\")\n",
    "northern_sea_level.head()"
   ]
  },
  {
   "cell_type": "code",
   "execution_count": 20,
   "metadata": {
    "collapsed": false
   },
   "outputs": [
    {
     "data": {
      "text/html": [
       "<div>\n",
       "<table border=\"1\" class=\"dataframe\">\n",
       "  <thead>\n",
       "    <tr style=\"text-align: right;\">\n",
       "      <th></th>\n",
       "      <th>year</th>\n",
       "      <th>msl_ib(mm)</th>\n",
       "      <th>#version_2016_rel3</th>\n",
       "    </tr>\n",
       "  </thead>\n",
       "  <tbody>\n",
       "    <tr>\n",
       "      <th>0</th>\n",
       "      <td>1992.9323</td>\n",
       "      <td>2.517</td>\n",
       "      <td>NaN</td>\n",
       "    </tr>\n",
       "    <tr>\n",
       "      <th>1</th>\n",
       "      <td>1992.9595</td>\n",
       "      <td>-7.645</td>\n",
       "      <td>NaN</td>\n",
       "    </tr>\n",
       "    <tr>\n",
       "      <th>2</th>\n",
       "      <td>1992.9866</td>\n",
       "      <td>-2.267</td>\n",
       "      <td>NaN</td>\n",
       "    </tr>\n",
       "    <tr>\n",
       "      <th>3</th>\n",
       "      <td>1993.0138</td>\n",
       "      <td>0.855</td>\n",
       "      <td>NaN</td>\n",
       "    </tr>\n",
       "    <tr>\n",
       "      <th>4</th>\n",
       "      <td>1993.0409</td>\n",
       "      <td>-2.020</td>\n",
       "      <td>NaN</td>\n",
       "    </tr>\n",
       "  </tbody>\n",
       "</table>\n",
       "</div>"
      ],
      "text/plain": [
       "        year  msl_ib(mm)  #version_2016_rel3\n",
       "0  1992.9323       2.517                 NaN\n",
       "1  1992.9595      -7.645                 NaN\n",
       "2  1992.9866      -2.267                 NaN\n",
       "3  1993.0138       0.855                 NaN\n",
       "4  1993.0409      -2.020                 NaN"
      ]
     },
     "execution_count": 20,
     "metadata": {},
     "output_type": "execute_result"
    }
   ],
   "source": [
    "# Local backup: data/sea_levels/sl_sh.txt\n",
    "southern_sea_level = pd.read_table(\"http://sealevel.colorado.edu/files/current/sl_sh.txt\", \n",
    "                                   sep=\"\\s+\")\n",
    "southern_sea_level.head()"
   ]
  },
  {
   "cell_type": "code",
   "execution_count": 21,
   "metadata": {
    "collapsed": false
   },
   "outputs": [
    {
     "data": {
      "text/html": [
       "<div>\n",
       "<table border=\"1\" class=\"dataframe\">\n",
       "  <thead>\n",
       "    <tr style=\"text-align: right;\">\n",
       "      <th></th>\n",
       "      <th>year</th>\n",
       "      <th>msl_ib_ns(mm)</th>\n",
       "      <th>#version_2015_rel2</th>\n",
       "    </tr>\n",
       "  </thead>\n",
       "  <tbody>\n",
       "    <tr>\n",
       "      <th>0</th>\n",
       "      <td>1992.9595</td>\n",
       "      <td>-5.818</td>\n",
       "      <td>NaN</td>\n",
       "    </tr>\n",
       "    <tr>\n",
       "      <th>1</th>\n",
       "      <td>1992.9866</td>\n",
       "      <td>-7.525</td>\n",
       "      <td>NaN</td>\n",
       "    </tr>\n",
       "    <tr>\n",
       "      <th>2</th>\n",
       "      <td>1993.0138</td>\n",
       "      <td>-9.215</td>\n",
       "      <td>NaN</td>\n",
       "    </tr>\n",
       "    <tr>\n",
       "      <th>3</th>\n",
       "      <td>1993.0409</td>\n",
       "      <td>-11.796</td>\n",
       "      <td>NaN</td>\n",
       "    </tr>\n",
       "    <tr>\n",
       "      <th>4</th>\n",
       "      <td>1993.0681</td>\n",
       "      <td>-11.291</td>\n",
       "      <td>NaN</td>\n",
       "    </tr>\n",
       "  </tbody>\n",
       "</table>\n",
       "</div>"
      ],
      "text/plain": [
       "        year  msl_ib_ns(mm)  #version_2015_rel2\n",
       "0  1992.9595         -5.818                 NaN\n",
       "1  1992.9866         -7.525                 NaN\n",
       "2  1993.0138         -9.215                 NaN\n",
       "3  1993.0409        -11.796                 NaN\n",
       "4  1993.0681        -11.291                 NaN"
      ]
     },
     "execution_count": 21,
     "metadata": {},
     "output_type": "execute_result"
    }
   ],
   "source": [
    "# The 2015 version of the global dataset:\n",
    "# Local backup: data/sea_levels/sl_ns_global.txt\n",
    "url = \"http://sealevel.colorado.edu/files/2015_rel2/sl_ns_global.txt\"\n",
    "global_sea_level = pd.read_table(url, sep=\"\\s+\")\n",
    "global_sea_level.head()"
   ]
  },
  {
   "cell_type": "markdown",
   "metadata": {},
   "source": [
    "There are clearly lots of cleanup to be done on these datasets. See below..."
   ]
  },
  {
   "cell_type": "markdown",
   "metadata": {},
   "source": [
    "### From a local or remote HTML file"
   ]
  },
  {
   "cell_type": "markdown",
   "metadata": {},
   "source": [
    "To be able to grab more local data about mean sea levels, we can download and extract data about mean sea level stations around the world from the PSMSL (http://www.psmsl.org/). Again to download and parse all tables in a webpage, just give `read_html` the URL to parse:"
   ]
  },
  {
   "cell_type": "code",
   "execution_count": 22,
   "metadata": {
    "collapsed": false
   },
   "outputs": [
    {
     "data": {
      "text/plain": [
       "list"
      ]
     },
     "execution_count": 22,
     "metadata": {},
     "output_type": "execute_result"
    }
   ],
   "source": [
    "# Needs `lxml`, `beautifulSoup4` and `html5lib` python packages\n",
    "# Local backup in data/sea_levels/Obtaining Tide Gauge Data.html\n",
    "table_list = pd.read_html(\"http://www.psmsl.org/data/obtaining/\")\n",
    "type(table_list)"
   ]
  },
  {
   "cell_type": "code",
   "execution_count": 23,
   "metadata": {
    "collapsed": false
   },
   "outputs": [
    {
     "data": {
      "text/html": [
       "<div>\n",
       "<table border=\"1\" class=\"dataframe\">\n",
       "  <thead>\n",
       "    <tr style=\"text-align: right;\">\n",
       "      <th></th>\n",
       "      <th>Station Name</th>\n",
       "      <th>ID</th>\n",
       "      <th>Lat.</th>\n",
       "      <th>Lon.</th>\n",
       "      <th>GLOSS ID</th>\n",
       "      <th>Country</th>\n",
       "      <th>Date</th>\n",
       "      <th>Coastline</th>\n",
       "      <th>Station</th>\n",
       "    </tr>\n",
       "  </thead>\n",
       "  <tbody>\n",
       "    <tr>\n",
       "      <th>0</th>\n",
       "      <td>HELIGMAN</td>\n",
       "      <td>231</td>\n",
       "      <td>60.200</td>\n",
       "      <td>19.300</td>\n",
       "      <td>NaN</td>\n",
       "      <td>ALA</td>\n",
       "      <td>01/01/1980</td>\n",
       "      <td>60</td>\n",
       "      <td>251</td>\n",
       "    </tr>\n",
       "    <tr>\n",
       "      <th>1</th>\n",
       "      <td>KOBBAKLINTAR</td>\n",
       "      <td>63</td>\n",
       "      <td>60.033</td>\n",
       "      <td>19.883</td>\n",
       "      <td>NaN</td>\n",
       "      <td>ALA</td>\n",
       "      <td>01/01/1980</td>\n",
       "      <td>60</td>\n",
       "      <td>261</td>\n",
       "    </tr>\n",
       "    <tr>\n",
       "      <th>2</th>\n",
       "      <td>LEMSTROM</td>\n",
       "      <td>84</td>\n",
       "      <td>60.100</td>\n",
       "      <td>20.017</td>\n",
       "      <td>NaN</td>\n",
       "      <td>ALA</td>\n",
       "      <td>01/01/1980</td>\n",
       "      <td>60</td>\n",
       "      <td>271</td>\n",
       "    </tr>\n",
       "    <tr>\n",
       "      <th>3</th>\n",
       "      <td>FOGLO / DEGERBY</td>\n",
       "      <td>249</td>\n",
       "      <td>60.032</td>\n",
       "      <td>20.385</td>\n",
       "      <td>NaN</td>\n",
       "      <td>ALA</td>\n",
       "      <td>06/10/2015</td>\n",
       "      <td>60</td>\n",
       "      <td>281</td>\n",
       "    </tr>\n",
       "    <tr>\n",
       "      <th>4</th>\n",
       "      <td>PAGO PAGO</td>\n",
       "      <td>539</td>\n",
       "      <td>-14.280</td>\n",
       "      <td>-170.690</td>\n",
       "      <td>144.0</td>\n",
       "      <td>ASM</td>\n",
       "      <td>08/03/2016</td>\n",
       "      <td>745</td>\n",
       "      <td>1</td>\n",
       "    </tr>\n",
       "  </tbody>\n",
       "</table>\n",
       "</div>"
      ],
      "text/plain": [
       "      Station Name   ID    Lat.     Lon.  GLOSS ID   Country          Date  \\\n",
       "0         HELIGMAN  231  60.200   19.300         NaN       ALA  01/01/1980   \n",
       "1     KOBBAKLINTAR   63  60.033   19.883         NaN       ALA  01/01/1980   \n",
       "2         LEMSTROM   84  60.100   20.017         NaN       ALA  01/01/1980   \n",
       "3  FOGLO / DEGERBY  249  60.032   20.385         NaN       ALA  06/10/2015   \n",
       "4        PAGO PAGO  539 -14.280 -170.690       144.0       ASM  08/03/2016   \n",
       "\n",
       "   Coastline    Station    \n",
       "0           60        251  \n",
       "1           60        261  \n",
       "2           60        271  \n",
       "3           60        281  \n",
       "4          745          1  "
      ]
     },
     "execution_count": 23,
     "metadata": {},
     "output_type": "execute_result"
    }
   ],
   "source": [
    "# there is 1 table on that page which contains metadata about the stations where \n",
    "# sea levels are recorded\n",
    "local_sea_level_stations = table_list[0]\n",
    "local_sea_level_stations.head()"
   ]
  },
  {
   "cell_type": "markdown",
   "metadata": {},
   "source": [
    "That table can be used to search for a station in a region of the world we choose, extract an ID for it and download the corresponding time series with the URL http://www.psmsl.org/data/obtaining/met.monthly.data/< ID >.metdata"
   ]
  },
  {
   "cell_type": "markdown",
   "metadata": {},
   "source": [
    "## 2. Pandas DataStructures"
   ]
  },
  {
   "cell_type": "markdown",
   "metadata": {},
   "source": [
    "For more details, see http://pandas.pydata.org/pandas-docs/stable/dsintro.html"
   ]
  },
  {
   "cell_type": "markdown",
   "metadata": {},
   "source": [
    "Now that we have used `read_**` functions to load datasets, we need to understand better what kind of objects we got from them to learn to work with them."
   ]
  },
  {
   "cell_type": "markdown",
   "metadata": {},
   "source": [
    "### DataFrame, the pandas 2D structure"
   ]
  },
  {
   "cell_type": "code",
   "execution_count": 24,
   "metadata": {
    "collapsed": false
   },
   "outputs": [
    {
     "data": {
      "text/plain": [
       "pandas.core.frame.DataFrame"
      ]
     },
     "execution_count": 24,
     "metadata": {},
     "output_type": "execute_result"
    }
   ],
   "source": [
    "# Type of the object?\n",
    "type(giss_temp)"
   ]
  },
  {
   "cell_type": "code",
   "execution_count": 25,
   "metadata": {
    "collapsed": false
   },
   "outputs": [
    {
     "name": "stdout",
     "output_type": "stream",
     "text": [
      "(143, 20)\n",
      "Year      object\n",
      "Jan       object\n",
      "Feb       object\n",
      "Mar       object\n",
      "Apr       object\n",
      "May       object\n",
      "Jun       object\n",
      "Jul       object\n",
      "           ...  \n",
      "Dec       object\n",
      "J-D       object\n",
      "D-N       object\n",
      "DJF       object\n",
      "MAM       object\n",
      "JJA       object\n",
      "SON       object\n",
      "Year.1    object\n",
      "dtype: object\n"
     ]
    }
   ],
   "source": [
    "# Internal nature of the object\n",
    "print(giss_temp.shape)\n",
    "print(giss_temp.dtypes)"
   ]
  },
  {
   "cell_type": "markdown",
   "metadata": {},
   "source": [
    "Descriptors for the vertical axis (axis=0)"
   ]
  },
  {
   "cell_type": "code",
   "execution_count": 26,
   "metadata": {
    "collapsed": false
   },
   "outputs": [
    {
     "data": {
      "text/plain": [
       "RangeIndex(start=0, stop=143, step=1)"
      ]
     },
     "execution_count": 26,
     "metadata": {},
     "output_type": "execute_result"
    }
   ],
   "source": [
    "giss_temp.index"
   ]
  },
  {
   "cell_type": "markdown",
   "metadata": {},
   "source": [
    "Descriptors for the horizontal axis (axis=1)"
   ]
  },
  {
   "cell_type": "code",
   "execution_count": 27,
   "metadata": {
    "collapsed": false
   },
   "outputs": [
    {
     "data": {
      "text/plain": [
       "Index(['Year', 'Jan', 'Feb', 'Mar', 'Apr', 'May', 'Jun', 'Jul', 'Aug', 'Sep',\n",
       "       'Oct', 'Nov', 'Dec', 'J-D', 'D-N', 'DJF', 'MAM', 'JJA', 'SON',\n",
       "       'Year.1'],\n",
       "      dtype='object')"
      ]
     },
     "execution_count": 27,
     "metadata": {},
     "output_type": "execute_result"
    }
   ],
   "source": [
    "giss_temp.columns"
   ]
  },
  {
   "cell_type": "markdown",
   "metadata": {},
   "source": [
    "A lot of information at once including memory usage:"
   ]
  },
  {
   "cell_type": "code",
   "execution_count": 28,
   "metadata": {
    "collapsed": false
   },
   "outputs": [
    {
     "name": "stdout",
     "output_type": "stream",
     "text": [
      "<class 'pandas.core.frame.DataFrame'>\n",
      "RangeIndex: 143 entries, 0 to 142\n",
      "Data columns (total 20 columns):\n",
      "Year      143 non-null object\n",
      "Jan       143 non-null object\n",
      "Feb       143 non-null object\n",
      "Mar       143 non-null object\n",
      "Apr       143 non-null object\n",
      "May       143 non-null object\n",
      "Jun       143 non-null object\n",
      "Jul       143 non-null object\n",
      "Aug       143 non-null object\n",
      "Sep       143 non-null object\n",
      "Oct       143 non-null object\n",
      "Nov       143 non-null object\n",
      "Dec       143 non-null object\n",
      "J-D       143 non-null object\n",
      "D-N       143 non-null object\n",
      "DJF       143 non-null object\n",
      "MAM       143 non-null object\n",
      "JJA       143 non-null object\n",
      "SON       143 non-null object\n",
      "Year.1    143 non-null object\n",
      "dtypes: object(20)\n",
      "memory usage: 22.4+ KB\n"
     ]
    }
   ],
   "source": [
    "giss_temp.info()"
   ]
  },
  {
   "cell_type": "markdown",
   "metadata": {},
   "source": [
    "### Series, the pandas 1D structure"
   ]
  },
  {
   "cell_type": "markdown",
   "metadata": {},
   "source": [
    "A series can be constructed with the `pd.Series` constructor (passing a list or array of values) or from a `DataFrame`, by extracting one of its columns."
   ]
  },
  {
   "cell_type": "code",
   "execution_count": 37,
   "metadata": {
    "collapsed": false
   },
   "outputs": [
    {
     "data": {
      "text/plain": [
       "pandas.core.frame.DataFrame"
      ]
     },
     "execution_count": 37,
     "metadata": {},
     "output_type": "execute_result"
    }
   ],
   "source": [
    "# Do we already have a series for the full_globe_temp?\n",
    "type(full_globe_temp)"
   ]
  },
  {
   "cell_type": "code",
   "execution_count": 38,
   "metadata": {
    "collapsed": false
   },
   "outputs": [
    {
     "data": {
      "text/plain": [
       "Index(['year', 'mean temp'], dtype='object')"
      ]
     },
     "execution_count": 38,
     "metadata": {},
     "output_type": "execute_result"
    }
   ],
   "source": [
    "full_globe_temp.columns"
   ]
  },
  {
   "cell_type": "code",
   "execution_count": 39,
   "metadata": {
    "collapsed": false
   },
   "outputs": [],
   "source": [
    "# Since there is only one column of values, we can make this a Series without \n",
    "# loosing information:\n",
    "full_globe_temp = full_globe_temp[\"mean temp\"]"
   ]
  },
  {
   "cell_type": "markdown",
   "metadata": {},
   "source": [
    "Core attributes/information:"
   ]
  },
  {
   "cell_type": "code",
   "execution_count": 40,
   "metadata": {
    "collapsed": false
   },
   "outputs": [
    {
     "name": "stdout",
     "output_type": "stream",
     "text": [
      "<class 'pandas.core.series.Series'>\n",
      "float64\n",
      "(131,)\n",
      "1048\n"
     ]
    }
   ],
   "source": [
    "print(type(full_globe_temp))\n",
    "print(full_globe_temp.dtype)\n",
    "print(full_globe_temp.shape)\n",
    "print(full_globe_temp.nbytes)"
   ]
  },
  {
   "cell_type": "markdown",
   "metadata": {},
   "source": [
    "Probably the most important attribute of a `Series` or `DataFrame` is its `index` since we will use that to, well, index into the structures to access te information:"
   ]
  },
  {
   "cell_type": "code",
   "execution_count": 41,
   "metadata": {
    "collapsed": false
   },
   "outputs": [
    {
     "data": {
      "text/plain": [
       "RangeIndex(start=0, stop=131, step=1)"
      ]
     },
     "execution_count": 41,
     "metadata": {},
     "output_type": "execute_result"
    }
   ],
   "source": [
    "full_globe_temp.index"
   ]
  },
  {
   "cell_type": "markdown",
   "metadata": {},
   "source": [
    "### NumPy arrays as backend of Pandas"
   ]
  },
  {
   "cell_type": "markdown",
   "metadata": {},
   "source": [
    "It is always possible to fall back to a good old NumPy array to pass on to scientific libraries that need them: SciPy, scikit-learn, ..."
   ]
  },
  {
   "cell_type": "code",
   "execution_count": 42,
   "metadata": {
    "collapsed": false
   },
   "outputs": [
    {
     "data": {
      "text/plain": [
       "array([ -1.59100000e-01,  -7.89000000e-02,  -1.31300000e-01,\n",
       "        -1.67500000e-01,  -2.48500000e-01,  -2.04200000e-01,\n",
       "        -1.69500000e-01,  -2.50500000e-01,  -1.60500000e-01,\n",
       "        -1.10300000e-01,  -3.01400000e-01,  -2.52700000e-01,\n",
       "        -2.92600000e-01,  -3.27400000e-01,  -2.88000000e-01,\n",
       "        -2.14600000e-01,  -1.00900000e-01,  -1.29400000e-01,\n",
       "        -2.51700000e-01,  -1.35600000e-01,  -1.12500000e-01,\n",
       "        -1.69300000e-01,  -2.25500000e-01,  -3.44200000e-01,\n",
       "        -3.79900000e-01,  -2.58300000e-01,  -2.06000000e-01,\n",
       "        -3.72600000e-01,  -3.92200000e-01,  -4.04100000e-01,\n",
       "        -3.86000000e-01,  -4.14400000e-01,  -3.42200000e-01,\n",
       "        -3.19600000e-01,  -1.59900000e-01,  -8.10000000e-02,\n",
       "        -2.80300000e-01,  -3.22700000e-01,  -2.10600000e-01,\n",
       "        -2.18600000e-01,  -2.02500000e-01,  -1.39000000e-01,\n",
       "        -2.22200000e-01,  -2.06300000e-01,  -1.84300000e-01,\n",
       "        -1.26000000e-01,  -1.92000000e-02,  -1.00700000e-01,\n",
       "        -9.35000000e-02,  -2.20100000e-01,  -2.82000000e-02,\n",
       "         4.10000000e-03,  -2.85000000e-02,  -1.61600000e-01,\n",
       "        -2.85000000e-02,  -5.65000000e-02,  -3.18000000e-02,\n",
       "         7.27000000e-02,   9.55000000e-02,   8.98000000e-02,\n",
       "         1.23400000e-01,   1.83700000e-01,   1.37700000e-01,\n",
       "         1.29900000e-01,   2.36200000e-01,   1.16200000e-01,\n",
       "        -2.02000000e-02,  -4.06000000e-02,  -4.94000000e-02,\n",
       "        -7.52000000e-02,  -1.63500000e-01,  -2.90000000e-03,\n",
       "         3.53000000e-02,   1.19000000e-01,  -1.02800000e-01,\n",
       "        -1.22000000e-01,  -1.83600000e-01,   5.70000000e-02,\n",
       "         1.05400000e-01,   6.34000000e-02,   1.14000000e-02,\n",
       "         8.94000000e-02,   1.13600000e-01,   1.33300000e-01,\n",
       "        -1.26800000e-01,  -6.95000000e-02,  -1.17000000e-02,\n",
       "         2.20000000e-03,  -1.21000000e-02,   9.11000000e-02,\n",
       "         4.71000000e-02,  -5.50000000e-02,   3.48000000e-02,\n",
       "         1.61700000e-01,  -8.62000000e-02,  -1.77000000e-02,\n",
       "        -1.06200000e-01,   1.42500000e-01,   6.15000000e-02,\n",
       "         1.53300000e-01,   1.93000000e-01,   2.28400000e-01,\n",
       "         1.17100000e-01,   2.81700000e-01,   8.75000000e-02,\n",
       "         6.81000000e-02,   1.60500000e-01,   2.96800000e-01,\n",
       "         3.00600000e-01,   2.22300000e-01,   3.86100000e-01,\n",
       "         3.36000000e-01,   2.02300000e-01,   2.30700000e-01,\n",
       "         2.93400000e-01,   4.07300000e-01,   2.75300000e-01,\n",
       "         4.78200000e-01,   5.97100000e-01,   4.19900000e-01,\n",
       "         3.88600000e-01,   5.17300000e-01,   5.74500000e-01,\n",
       "         5.81800000e-01,   5.41600000e-01,   6.15400000e-01,\n",
       "         5.60100000e-01,   5.47200000e-01,   4.80400000e-01,\n",
       "         5.55100000e-01,  -9.99000000e+02])"
      ]
     },
     "execution_count": 42,
     "metadata": {},
     "output_type": "execute_result"
    }
   ],
   "source": [
    "full_globe_temp.values"
   ]
  },
  {
   "cell_type": "code",
   "execution_count": 43,
   "metadata": {
    "collapsed": false
   },
   "outputs": [
    {
     "data": {
      "text/plain": [
       "numpy.ndarray"
      ]
     },
     "execution_count": 43,
     "metadata": {},
     "output_type": "execute_result"
    }
   ],
   "source": [
    "type(full_globe_temp.values)"
   ]
  },
  {
   "cell_type": "markdown",
   "metadata": {},
   "source": [
    "### Creating new DataFrames manually"
   ]
  },
  {
   "cell_type": "markdown",
   "metadata": {},
   "source": [
    "`DataFrame`s can also be created manually, by grouping several Series together. Let's make a new frame from the 3 sea level datasets we downloaded above. They will be displayed along the same index. Wait, does that makes sense to do that?"
   ]
  },
  {
   "cell_type": "code",
   "execution_count": 46,
   "metadata": {
    "collapsed": false
   },
   "outputs": [
    {
     "data": {
      "text/plain": [
       "861"
      ]
     },
     "execution_count": 46,
     "metadata": {},
     "output_type": "execute_result"
    }
   ],
   "source": [
    "# Are they aligned?\n",
    "sum(southern_sea_level.year == northern_sea_level.year)"
   ]
  },
  {
   "cell_type": "code",
   "execution_count": 47,
   "metadata": {
    "collapsed": false
   },
   "outputs": [
    {
     "data": {
      "text/plain": [
       "True"
      ]
     },
     "execution_count": 47,
     "metadata": {},
     "output_type": "execute_result"
    }
   ],
   "source": [
    "# So, are they aligned?\n",
    "np.all(southern_sea_level.year == northern_sea_level.year)"
   ]
  },
  {
   "cell_type": "markdown",
   "metadata": {},
   "source": [
    "So the northern hemisphere and southern hemisphere datasets are aligned. What about the global one?"
   ]
  },
  {
   "cell_type": "code",
   "execution_count": 48,
   "metadata": {
    "collapsed": false
   },
   "outputs": [
    {
     "data": {
      "text/plain": [
       "False"
      ]
     },
     "execution_count": 48,
     "metadata": {},
     "output_type": "execute_result"
    }
   ],
   "source": [
    "len(global_sea_level.year) == len(northern_sea_level.year)"
   ]
  },
  {
   "cell_type": "markdown",
   "metadata": {},
   "source": [
    "For now, let's just build a DataFrame with the 2 hemisphere datasets then. We will come back to add the global one later..."
   ]
  },
  {
   "cell_type": "code",
   "execution_count": 49,
   "metadata": {
    "collapsed": false
   },
   "outputs": [
    {
     "data": {
      "text/html": [
       "<div>\n",
       "<table border=\"1\" class=\"dataframe\">\n",
       "  <thead>\n",
       "    <tr style=\"text-align: right;\">\n",
       "      <th></th>\n",
       "      <th>date</th>\n",
       "      <th>northern_hem</th>\n",
       "      <th>southern_hem</th>\n",
       "    </tr>\n",
       "  </thead>\n",
       "  <tbody>\n",
       "    <tr>\n",
       "      <th>0</th>\n",
       "      <td>1992.9323</td>\n",
       "      <td>13.717</td>\n",
       "      <td>2.517</td>\n",
       "    </tr>\n",
       "    <tr>\n",
       "      <th>1</th>\n",
       "      <td>1992.9595</td>\n",
       "      <td>1.328</td>\n",
       "      <td>-7.645</td>\n",
       "    </tr>\n",
       "    <tr>\n",
       "      <th>2</th>\n",
       "      <td>1992.9866</td>\n",
       "      <td>-13.375</td>\n",
       "      <td>-2.267</td>\n",
       "    </tr>\n",
       "    <tr>\n",
       "      <th>3</th>\n",
       "      <td>1993.0138</td>\n",
       "      <td>-24.723</td>\n",
       "      <td>0.855</td>\n",
       "    </tr>\n",
       "    <tr>\n",
       "      <th>4</th>\n",
       "      <td>1993.0409</td>\n",
       "      <td>-29.231</td>\n",
       "      <td>-2.020</td>\n",
       "    </tr>\n",
       "    <tr>\n",
       "      <th>5</th>\n",
       "      <td>1993.0681</td>\n",
       "      <td>-32.538</td>\n",
       "      <td>-0.398</td>\n",
       "    </tr>\n",
       "    <tr>\n",
       "      <th>6</th>\n",
       "      <td>1993.0952</td>\n",
       "      <td>-35.588</td>\n",
       "      <td>4.102</td>\n",
       "    </tr>\n",
       "    <tr>\n",
       "      <th>7</th>\n",
       "      <td>1993.1223</td>\n",
       "      <td>-26.579</td>\n",
       "      <td>6.787</td>\n",
       "    </tr>\n",
       "    <tr>\n",
       "      <th>...</th>\n",
       "      <td>...</td>\n",
       "      <td>...</td>\n",
       "      <td>...</td>\n",
       "    </tr>\n",
       "    <tr>\n",
       "      <th>853</th>\n",
       "      <td>2016.1440</td>\n",
       "      <td>49.218</td>\n",
       "      <td>84.902</td>\n",
       "    </tr>\n",
       "    <tr>\n",
       "      <th>854</th>\n",
       "      <td>2016.1711</td>\n",
       "      <td>44.274</td>\n",
       "      <td>83.829</td>\n",
       "    </tr>\n",
       "    <tr>\n",
       "      <th>855</th>\n",
       "      <td>2016.1983</td>\n",
       "      <td>33.961</td>\n",
       "      <td>86.020</td>\n",
       "    </tr>\n",
       "    <tr>\n",
       "      <th>856</th>\n",
       "      <td>2016.2254</td>\n",
       "      <td>42.199</td>\n",
       "      <td>88.122</td>\n",
       "    </tr>\n",
       "    <tr>\n",
       "      <th>857</th>\n",
       "      <td>2016.2526</td>\n",
       "      <td>45.004</td>\n",
       "      <td>88.090</td>\n",
       "    </tr>\n",
       "    <tr>\n",
       "      <th>858</th>\n",
       "      <td>2016.2797</td>\n",
       "      <td>49.809</td>\n",
       "      <td>87.806</td>\n",
       "    </tr>\n",
       "    <tr>\n",
       "      <th>859</th>\n",
       "      <td>2016.3068</td>\n",
       "      <td>55.401</td>\n",
       "      <td>77.270</td>\n",
       "    </tr>\n",
       "    <tr>\n",
       "      <th>860</th>\n",
       "      <td>2016.3340</td>\n",
       "      <td>50.416</td>\n",
       "      <td>70.916</td>\n",
       "    </tr>\n",
       "  </tbody>\n",
       "</table>\n",
       "<p>861 rows × 3 columns</p>\n",
       "</div>"
      ],
      "text/plain": [
       "          date  northern_hem  southern_hem\n",
       "0    1992.9323        13.717         2.517\n",
       "1    1992.9595         1.328        -7.645\n",
       "2    1992.9866       -13.375        -2.267\n",
       "3    1993.0138       -24.723         0.855\n",
       "4    1993.0409       -29.231        -2.020\n",
       "5    1993.0681       -32.538        -0.398\n",
       "6    1993.0952       -35.588         4.102\n",
       "7    1993.1223       -26.579         6.787\n",
       "..         ...           ...           ...\n",
       "853  2016.1440        49.218        84.902\n",
       "854  2016.1711        44.274        83.829\n",
       "855  2016.1983        33.961        86.020\n",
       "856  2016.2254        42.199        88.122\n",
       "857  2016.2526        45.004        88.090\n",
       "858  2016.2797        49.809        87.806\n",
       "859  2016.3068        55.401        77.270\n",
       "860  2016.3340        50.416        70.916\n",
       "\n",
       "[861 rows x 3 columns]"
      ]
     },
     "execution_count": 49,
     "metadata": {},
     "output_type": "execute_result"
    }
   ],
   "source": [
    "mean_sea_level = pd.DataFrame({\"northern_hem\": northern_sea_level[\"msl_ib(mm)\"], \n",
    "                               \"southern_hem\": southern_sea_level[\"msl_ib(mm)\"], \n",
    "                               \"date\": northern_sea_level.year})\n",
    "mean_sea_level"
   ]
  },
  {
   "cell_type": "markdown",
   "metadata": {},
   "source": [
    "Note: there are other ways to create DataFrames manually, for example from a 2D numpy array."
   ]
  },
  {
   "cell_type": "markdown",
   "metadata": {},
   "source": [
    "There is still the date in a regular column and a numerical index that is not that meaningful. We can specify the `index` of a `DataFrame` at creation. Let's try:"
   ]
  },
  {
   "cell_type": "code",
   "execution_count": 50,
   "metadata": {
    "collapsed": false
   },
   "outputs": [
    {
     "data": {
      "text/html": [
       "<div>\n",
       "<table border=\"1\" class=\"dataframe\">\n",
       "  <thead>\n",
       "    <tr style=\"text-align: right;\">\n",
       "      <th></th>\n",
       "      <th>northern_hem</th>\n",
       "      <th>southern_hem</th>\n",
       "    </tr>\n",
       "    <tr>\n",
       "      <th>year</th>\n",
       "      <th></th>\n",
       "      <th></th>\n",
       "    </tr>\n",
       "  </thead>\n",
       "  <tbody>\n",
       "    <tr>\n",
       "      <th>1992.9323</th>\n",
       "      <td>NaN</td>\n",
       "      <td>NaN</td>\n",
       "    </tr>\n",
       "    <tr>\n",
       "      <th>1992.9595</th>\n",
       "      <td>NaN</td>\n",
       "      <td>NaN</td>\n",
       "    </tr>\n",
       "    <tr>\n",
       "      <th>1992.9866</th>\n",
       "      <td>NaN</td>\n",
       "      <td>NaN</td>\n",
       "    </tr>\n",
       "    <tr>\n",
       "      <th>1993.0138</th>\n",
       "      <td>NaN</td>\n",
       "      <td>NaN</td>\n",
       "    </tr>\n",
       "    <tr>\n",
       "      <th>1993.0409</th>\n",
       "      <td>NaN</td>\n",
       "      <td>NaN</td>\n",
       "    </tr>\n",
       "    <tr>\n",
       "      <th>1993.0681</th>\n",
       "      <td>NaN</td>\n",
       "      <td>NaN</td>\n",
       "    </tr>\n",
       "    <tr>\n",
       "      <th>1993.0952</th>\n",
       "      <td>NaN</td>\n",
       "      <td>NaN</td>\n",
       "    </tr>\n",
       "    <tr>\n",
       "      <th>1993.1223</th>\n",
       "      <td>NaN</td>\n",
       "      <td>NaN</td>\n",
       "    </tr>\n",
       "    <tr>\n",
       "      <th>...</th>\n",
       "      <td>...</td>\n",
       "      <td>...</td>\n",
       "    </tr>\n",
       "    <tr>\n",
       "      <th>2016.1440</th>\n",
       "      <td>NaN</td>\n",
       "      <td>NaN</td>\n",
       "    </tr>\n",
       "    <tr>\n",
       "      <th>2016.1711</th>\n",
       "      <td>NaN</td>\n",
       "      <td>NaN</td>\n",
       "    </tr>\n",
       "    <tr>\n",
       "      <th>2016.1983</th>\n",
       "      <td>NaN</td>\n",
       "      <td>NaN</td>\n",
       "    </tr>\n",
       "    <tr>\n",
       "      <th>2016.2254</th>\n",
       "      <td>NaN</td>\n",
       "      <td>NaN</td>\n",
       "    </tr>\n",
       "    <tr>\n",
       "      <th>2016.2526</th>\n",
       "      <td>NaN</td>\n",
       "      <td>NaN</td>\n",
       "    </tr>\n",
       "    <tr>\n",
       "      <th>2016.2797</th>\n",
       "      <td>NaN</td>\n",
       "      <td>NaN</td>\n",
       "    </tr>\n",
       "    <tr>\n",
       "      <th>2016.3068</th>\n",
       "      <td>NaN</td>\n",
       "      <td>NaN</td>\n",
       "    </tr>\n",
       "    <tr>\n",
       "      <th>2016.3340</th>\n",
       "      <td>NaN</td>\n",
       "      <td>NaN</td>\n",
       "    </tr>\n",
       "  </tbody>\n",
       "</table>\n",
       "<p>861 rows × 2 columns</p>\n",
       "</div>"
      ],
      "text/plain": [
       "           northern_hem  southern_hem\n",
       "year                                 \n",
       "1992.9323           NaN           NaN\n",
       "1992.9595           NaN           NaN\n",
       "1992.9866           NaN           NaN\n",
       "1993.0138           NaN           NaN\n",
       "1993.0409           NaN           NaN\n",
       "1993.0681           NaN           NaN\n",
       "1993.0952           NaN           NaN\n",
       "1993.1223           NaN           NaN\n",
       "...                 ...           ...\n",
       "2016.1440           NaN           NaN\n",
       "2016.1711           NaN           NaN\n",
       "2016.1983           NaN           NaN\n",
       "2016.2254           NaN           NaN\n",
       "2016.2526           NaN           NaN\n",
       "2016.2797           NaN           NaN\n",
       "2016.3068           NaN           NaN\n",
       "2016.3340           NaN           NaN\n",
       "\n",
       "[861 rows x 2 columns]"
      ]
     },
     "execution_count": 50,
     "metadata": {},
     "output_type": "execute_result"
    }
   ],
   "source": [
    "mean_sea_level = pd.DataFrame({\"northern_hem\": northern_sea_level[\"msl_ib(mm)\"], \n",
    "                               \"southern_hem\": southern_sea_level[\"msl_ib(mm)\"]},\n",
    "                               index = northern_sea_level.year)\n",
    "mean_sea_level"
   ]
  },
  {
   "cell_type": "markdown",
   "metadata": {},
   "source": [
    "Now the fact that it is failing show that Pandas does auto-alignment of values: for each value of the index, it searches for a value in each Series that maps the same value. Since these series have a dumb numerical index, no values are found. \n",
    "\n",
    "Since we know that the order of the values match the index we chose, we can replace the Series by their values only at creation of the DataFrame:"
   ]
  },
  {
   "cell_type": "code",
   "execution_count": 51,
   "metadata": {
    "collapsed": false
   },
   "outputs": [
    {
     "data": {
      "text/html": [
       "<div>\n",
       "<table border=\"1\" class=\"dataframe\">\n",
       "  <thead>\n",
       "    <tr style=\"text-align: right;\">\n",
       "      <th></th>\n",
       "      <th>northern_hem</th>\n",
       "      <th>southern_hem</th>\n",
       "    </tr>\n",
       "    <tr>\n",
       "      <th>year</th>\n",
       "      <th></th>\n",
       "      <th></th>\n",
       "    </tr>\n",
       "  </thead>\n",
       "  <tbody>\n",
       "    <tr>\n",
       "      <th>1992.9323</th>\n",
       "      <td>13.717</td>\n",
       "      <td>2.517</td>\n",
       "    </tr>\n",
       "    <tr>\n",
       "      <th>1992.9595</th>\n",
       "      <td>1.328</td>\n",
       "      <td>-7.645</td>\n",
       "    </tr>\n",
       "    <tr>\n",
       "      <th>1992.9866</th>\n",
       "      <td>-13.375</td>\n",
       "      <td>-2.267</td>\n",
       "    </tr>\n",
       "    <tr>\n",
       "      <th>1993.0138</th>\n",
       "      <td>-24.723</td>\n",
       "      <td>0.855</td>\n",
       "    </tr>\n",
       "    <tr>\n",
       "      <th>1993.0409</th>\n",
       "      <td>-29.231</td>\n",
       "      <td>-2.020</td>\n",
       "    </tr>\n",
       "    <tr>\n",
       "      <th>1993.0681</th>\n",
       "      <td>-32.538</td>\n",
       "      <td>-0.398</td>\n",
       "    </tr>\n",
       "    <tr>\n",
       "      <th>1993.0952</th>\n",
       "      <td>-35.588</td>\n",
       "      <td>4.102</td>\n",
       "    </tr>\n",
       "    <tr>\n",
       "      <th>1993.1223</th>\n",
       "      <td>-26.579</td>\n",
       "      <td>6.787</td>\n",
       "    </tr>\n",
       "    <tr>\n",
       "      <th>...</th>\n",
       "      <td>...</td>\n",
       "      <td>...</td>\n",
       "    </tr>\n",
       "    <tr>\n",
       "      <th>2016.1440</th>\n",
       "      <td>49.218</td>\n",
       "      <td>84.902</td>\n",
       "    </tr>\n",
       "    <tr>\n",
       "      <th>2016.1711</th>\n",
       "      <td>44.274</td>\n",
       "      <td>83.829</td>\n",
       "    </tr>\n",
       "    <tr>\n",
       "      <th>2016.1983</th>\n",
       "      <td>33.961</td>\n",
       "      <td>86.020</td>\n",
       "    </tr>\n",
       "    <tr>\n",
       "      <th>2016.2254</th>\n",
       "      <td>42.199</td>\n",
       "      <td>88.122</td>\n",
       "    </tr>\n",
       "    <tr>\n",
       "      <th>2016.2526</th>\n",
       "      <td>45.004</td>\n",
       "      <td>88.090</td>\n",
       "    </tr>\n",
       "    <tr>\n",
       "      <th>2016.2797</th>\n",
       "      <td>49.809</td>\n",
       "      <td>87.806</td>\n",
       "    </tr>\n",
       "    <tr>\n",
       "      <th>2016.3068</th>\n",
       "      <td>55.401</td>\n",
       "      <td>77.270</td>\n",
       "    </tr>\n",
       "    <tr>\n",
       "      <th>2016.3340</th>\n",
       "      <td>50.416</td>\n",
       "      <td>70.916</td>\n",
       "    </tr>\n",
       "  </tbody>\n",
       "</table>\n",
       "<p>861 rows × 2 columns</p>\n",
       "</div>"
      ],
      "text/plain": [
       "           northern_hem  southern_hem\n",
       "year                                 \n",
       "1992.9323        13.717         2.517\n",
       "1992.9595         1.328        -7.645\n",
       "1992.9866       -13.375        -2.267\n",
       "1993.0138       -24.723         0.855\n",
       "1993.0409       -29.231        -2.020\n",
       "1993.0681       -32.538        -0.398\n",
       "1993.0952       -35.588         4.102\n",
       "1993.1223       -26.579         6.787\n",
       "...                 ...           ...\n",
       "2016.1440        49.218        84.902\n",
       "2016.1711        44.274        83.829\n",
       "2016.1983        33.961        86.020\n",
       "2016.2254        42.199        88.122\n",
       "2016.2526        45.004        88.090\n",
       "2016.2797        49.809        87.806\n",
       "2016.3068        55.401        77.270\n",
       "2016.3340        50.416        70.916\n",
       "\n",
       "[861 rows x 2 columns]"
      ]
     },
     "execution_count": 51,
     "metadata": {},
     "output_type": "execute_result"
    }
   ],
   "source": [
    "mean_sea_level = pd.DataFrame({\"northern_hem\": northern_sea_level[\"msl_ib(mm)\"].values, \n",
    "                               \"southern_hem\": southern_sea_level[\"msl_ib(mm)\"].values},\n",
    "                               index = northern_sea_level.year)\n",
    "mean_sea_level"
   ]
  },
  {
   "cell_type": "markdown",
   "metadata": {},
   "source": [
    "## 3. Cleaning and formatting data"
   ]
  },
  {
   "cell_type": "markdown",
   "metadata": {},
   "source": [
    "The datasets that we obtain straight from the reading functions are pretty raw. A lot of pre-processing can be done during data read but we haven't used all the power of the reading functions. Let's learn to do a lot of cleaning and formatting of the data.\n",
    "\n",
    "The GISS temperature dataset has a lot of issues too: useless numerical index, redundant columns, useless rows, placeholder (`****`) for missing values, and wrong type for the columns. Let's fix all this:"
   ]
  },
  {
   "cell_type": "markdown",
   "metadata": {},
   "source": [
    "### Renaming columns"
   ]
  },
  {
   "cell_type": "code",
   "execution_count": 52,
   "metadata": {
    "collapsed": false
   },
   "outputs": [
    {
     "data": {
      "text/plain": [
       "Index(['Station Name', 'ID', 'Lat.', 'Lon.', 'GLOSS ID  ', 'Country  ', 'Date',\n",
       "       'Coastline  ', 'Station  '],\n",
       "      dtype='object')"
      ]
     },
     "execution_count": 52,
     "metadata": {},
     "output_type": "execute_result"
    }
   ],
   "source": [
    "# The columns of the local_sea_level_stations aren't clean: they contain spaces and dots.\n",
    "local_sea_level_stations.columns"
   ]
  },
  {
   "cell_type": "code",
   "execution_count": 53,
   "metadata": {
    "collapsed": false
   },
   "outputs": [
    {
     "data": {
      "text/plain": [
       "Index(['Station Name', 'ID', 'Lat', 'Lon', 'GLOSS ID', 'Country', 'Date',\n",
       "       'Coastline', 'Station'],\n",
       "      dtype='object')"
      ]
     },
     "execution_count": 53,
     "metadata": {},
     "output_type": "execute_result"
    }
   ],
   "source": [
    "# Let's clean them up a bit:\n",
    "local_sea_level_stations.columns = [name.strip().replace(\".\", \"\") \n",
    "                                    for name in local_sea_level_stations.columns]\n",
    "local_sea_level_stations.columns"
   ]
  },
  {
   "cell_type": "markdown",
   "metadata": {},
   "source": [
    "We can also rename an index by setting its name. For example, the index of the `mean_sea_level` dataFrame could be called `date` since it contains more than just the year:"
   ]
  },
  {
   "cell_type": "code",
   "execution_count": 54,
   "metadata": {
    "collapsed": false
   },
   "outputs": [
    {
     "data": {
      "text/html": [
       "<div>\n",
       "<table border=\"1\" class=\"dataframe\">\n",
       "  <thead>\n",
       "    <tr style=\"text-align: right;\">\n",
       "      <th></th>\n",
       "      <th>northern_hem</th>\n",
       "      <th>southern_hem</th>\n",
       "    </tr>\n",
       "    <tr>\n",
       "      <th>date</th>\n",
       "      <th></th>\n",
       "      <th></th>\n",
       "    </tr>\n",
       "  </thead>\n",
       "  <tbody>\n",
       "    <tr>\n",
       "      <th>1992.9323</th>\n",
       "      <td>13.717</td>\n",
       "      <td>2.517</td>\n",
       "    </tr>\n",
       "    <tr>\n",
       "      <th>1992.9595</th>\n",
       "      <td>1.328</td>\n",
       "      <td>-7.645</td>\n",
       "    </tr>\n",
       "    <tr>\n",
       "      <th>1992.9866</th>\n",
       "      <td>-13.375</td>\n",
       "      <td>-2.267</td>\n",
       "    </tr>\n",
       "    <tr>\n",
       "      <th>1993.0138</th>\n",
       "      <td>-24.723</td>\n",
       "      <td>0.855</td>\n",
       "    </tr>\n",
       "    <tr>\n",
       "      <th>1993.0409</th>\n",
       "      <td>-29.231</td>\n",
       "      <td>-2.020</td>\n",
       "    </tr>\n",
       "    <tr>\n",
       "      <th>1993.0681</th>\n",
       "      <td>-32.538</td>\n",
       "      <td>-0.398</td>\n",
       "    </tr>\n",
       "    <tr>\n",
       "      <th>1993.0952</th>\n",
       "      <td>-35.588</td>\n",
       "      <td>4.102</td>\n",
       "    </tr>\n",
       "    <tr>\n",
       "      <th>1993.1223</th>\n",
       "      <td>-26.579</td>\n",
       "      <td>6.787</td>\n",
       "    </tr>\n",
       "    <tr>\n",
       "      <th>...</th>\n",
       "      <td>...</td>\n",
       "      <td>...</td>\n",
       "    </tr>\n",
       "    <tr>\n",
       "      <th>2016.1440</th>\n",
       "      <td>49.218</td>\n",
       "      <td>84.902</td>\n",
       "    </tr>\n",
       "    <tr>\n",
       "      <th>2016.1711</th>\n",
       "      <td>44.274</td>\n",
       "      <td>83.829</td>\n",
       "    </tr>\n",
       "    <tr>\n",
       "      <th>2016.1983</th>\n",
       "      <td>33.961</td>\n",
       "      <td>86.020</td>\n",
       "    </tr>\n",
       "    <tr>\n",
       "      <th>2016.2254</th>\n",
       "      <td>42.199</td>\n",
       "      <td>88.122</td>\n",
       "    </tr>\n",
       "    <tr>\n",
       "      <th>2016.2526</th>\n",
       "      <td>45.004</td>\n",
       "      <td>88.090</td>\n",
       "    </tr>\n",
       "    <tr>\n",
       "      <th>2016.2797</th>\n",
       "      <td>49.809</td>\n",
       "      <td>87.806</td>\n",
       "    </tr>\n",
       "    <tr>\n",
       "      <th>2016.3068</th>\n",
       "      <td>55.401</td>\n",
       "      <td>77.270</td>\n",
       "    </tr>\n",
       "    <tr>\n",
       "      <th>2016.3340</th>\n",
       "      <td>50.416</td>\n",
       "      <td>70.916</td>\n",
       "    </tr>\n",
       "  </tbody>\n",
       "</table>\n",
       "<p>861 rows × 2 columns</p>\n",
       "</div>"
      ],
      "text/plain": [
       "           northern_hem  southern_hem\n",
       "date                                 \n",
       "1992.9323        13.717         2.517\n",
       "1992.9595         1.328        -7.645\n",
       "1992.9866       -13.375        -2.267\n",
       "1993.0138       -24.723         0.855\n",
       "1993.0409       -29.231        -2.020\n",
       "1993.0681       -32.538        -0.398\n",
       "1993.0952       -35.588         4.102\n",
       "1993.1223       -26.579         6.787\n",
       "...                 ...           ...\n",
       "2016.1440        49.218        84.902\n",
       "2016.1711        44.274        83.829\n",
       "2016.1983        33.961        86.020\n",
       "2016.2254        42.199        88.122\n",
       "2016.2526        45.004        88.090\n",
       "2016.2797        49.809        87.806\n",
       "2016.3068        55.401        77.270\n",
       "2016.3340        50.416        70.916\n",
       "\n",
       "[861 rows x 2 columns]"
      ]
     },
     "execution_count": 54,
     "metadata": {},
     "output_type": "execute_result"
    }
   ],
   "source": [
    "mean_sea_level.index.name = \"date\"\n",
    "mean_sea_level"
   ]
  },
  {
   "cell_type": "markdown",
   "metadata": {},
   "source": [
    "### Setting missing values"
   ]
  },
  {
   "cell_type": "markdown",
   "metadata": {},
   "source": [
    "In the full globe dataset, -999.00 was used to indicate that there was no value for that year. Let's search for all these values and replace them with the missing value that Pandas understand: `np.nan` "
   ]
  },
  {
   "cell_type": "code",
   "execution_count": 56,
   "metadata": {
    "collapsed": false
   },
   "outputs": [
    {
     "data": {
      "text/plain": [
       "1"
      ]
     },
     "execution_count": 56,
     "metadata": {},
     "output_type": "execute_result"
    }
   ],
   "source": [
    "sum(full_globe_temp == -999.000)"
   ]
  },
  {
   "cell_type": "code",
   "execution_count": 57,
   "metadata": {
    "collapsed": false
   },
   "outputs": [
    {
     "data": {
      "text/plain": [
       "126    0.5601\n",
       "127    0.5472\n",
       "128    0.4804\n",
       "129    0.5551\n",
       "130       NaN\n",
       "Name: mean temp, dtype: float64"
      ]
     },
     "execution_count": 57,
     "metadata": {},
     "output_type": "execute_result"
    }
   ],
   "source": [
    "full_globe_temp[full_globe_temp == -999.000] = np.nan\n",
    "full_globe_temp.tail()"
   ]
  },
  {
   "cell_type": "markdown",
   "metadata": {},
   "source": [
    "### Choosing what is the index"
   ]
  },
  {
   "cell_type": "code",
   "execution_count": 58,
   "metadata": {
    "collapsed": false
   },
   "outputs": [
    {
     "data": {
      "text/html": [
       "<div>\n",
       "<table border=\"1\" class=\"dataframe\">\n",
       "  <thead>\n",
       "    <tr style=\"text-align: right;\">\n",
       "      <th></th>\n",
       "      <th>Jan</th>\n",
       "      <th>Feb</th>\n",
       "      <th>Mar</th>\n",
       "      <th>Apr</th>\n",
       "      <th>May</th>\n",
       "      <th>Jun</th>\n",
       "      <th>Jul</th>\n",
       "      <th>Aug</th>\n",
       "      <th>Sep</th>\n",
       "      <th>Oct</th>\n",
       "      <th>Nov</th>\n",
       "      <th>Dec</th>\n",
       "      <th>J-D</th>\n",
       "      <th>D-N</th>\n",
       "      <th>DJF</th>\n",
       "      <th>MAM</th>\n",
       "      <th>JJA</th>\n",
       "      <th>SON</th>\n",
       "      <th>Year.1</th>\n",
       "    </tr>\n",
       "    <tr>\n",
       "      <th>Year</th>\n",
       "      <th></th>\n",
       "      <th></th>\n",
       "      <th></th>\n",
       "      <th></th>\n",
       "      <th></th>\n",
       "      <th></th>\n",
       "      <th></th>\n",
       "      <th></th>\n",
       "      <th></th>\n",
       "      <th></th>\n",
       "      <th></th>\n",
       "      <th></th>\n",
       "      <th></th>\n",
       "      <th></th>\n",
       "      <th></th>\n",
       "      <th></th>\n",
       "      <th></th>\n",
       "      <th></th>\n",
       "      <th></th>\n",
       "    </tr>\n",
       "  </thead>\n",
       "  <tbody>\n",
       "    <tr>\n",
       "      <th>1880</th>\n",
       "      <td>-34</td>\n",
       "      <td>-27</td>\n",
       "      <td>-22</td>\n",
       "      <td>-30</td>\n",
       "      <td>-16</td>\n",
       "      <td>-24</td>\n",
       "      <td>-19</td>\n",
       "      <td>-12</td>\n",
       "      <td>-20</td>\n",
       "      <td>-19</td>\n",
       "      <td>-16</td>\n",
       "      <td>-21</td>\n",
       "      <td>-22</td>\n",
       "      <td>***</td>\n",
       "      <td>****</td>\n",
       "      <td>-23</td>\n",
       "      <td>-18</td>\n",
       "      <td>-18</td>\n",
       "      <td>1880</td>\n",
       "    </tr>\n",
       "    <tr>\n",
       "      <th>1881</th>\n",
       "      <td>-13</td>\n",
       "      <td>-16</td>\n",
       "      <td>-2</td>\n",
       "      <td>-3</td>\n",
       "      <td>-3</td>\n",
       "      <td>-27</td>\n",
       "      <td>-12</td>\n",
       "      <td>-8</td>\n",
       "      <td>-18</td>\n",
       "      <td>-23</td>\n",
       "      <td>-28</td>\n",
       "      <td>-18</td>\n",
       "      <td>-14</td>\n",
       "      <td>-14</td>\n",
       "      <td>-17</td>\n",
       "      <td>-3</td>\n",
       "      <td>-15</td>\n",
       "      <td>-23</td>\n",
       "      <td>1881</td>\n",
       "    </tr>\n",
       "    <tr>\n",
       "      <th>1882</th>\n",
       "      <td>3</td>\n",
       "      <td>4</td>\n",
       "      <td>-2</td>\n",
       "      <td>-24</td>\n",
       "      <td>-20</td>\n",
       "      <td>-32</td>\n",
       "      <td>-27</td>\n",
       "      <td>-11</td>\n",
       "      <td>-11</td>\n",
       "      <td>-25</td>\n",
       "      <td>-25</td>\n",
       "      <td>-37</td>\n",
       "      <td>-17</td>\n",
       "      <td>-16</td>\n",
       "      <td>-4</td>\n",
       "      <td>-15</td>\n",
       "      <td>-23</td>\n",
       "      <td>-20</td>\n",
       "      <td>1882</td>\n",
       "    </tr>\n",
       "    <tr>\n",
       "      <th>1883</th>\n",
       "      <td>-38</td>\n",
       "      <td>-38</td>\n",
       "      <td>-12</td>\n",
       "      <td>-20</td>\n",
       "      <td>-20</td>\n",
       "      <td>-8</td>\n",
       "      <td>-3</td>\n",
       "      <td>-13</td>\n",
       "      <td>-19</td>\n",
       "      <td>-19</td>\n",
       "      <td>-28</td>\n",
       "      <td>-21</td>\n",
       "      <td>-20</td>\n",
       "      <td>-21</td>\n",
       "      <td>-38</td>\n",
       "      <td>-18</td>\n",
       "      <td>-8</td>\n",
       "      <td>-22</td>\n",
       "      <td>1883</td>\n",
       "    </tr>\n",
       "    <tr>\n",
       "      <th>1884</th>\n",
       "      <td>-20</td>\n",
       "      <td>-14</td>\n",
       "      <td>-31</td>\n",
       "      <td>-36</td>\n",
       "      <td>-33</td>\n",
       "      <td>-36</td>\n",
       "      <td>-31</td>\n",
       "      <td>-24</td>\n",
       "      <td>-29</td>\n",
       "      <td>-25</td>\n",
       "      <td>-29</td>\n",
       "      <td>-25</td>\n",
       "      <td>-28</td>\n",
       "      <td>-28</td>\n",
       "      <td>-18</td>\n",
       "      <td>-33</td>\n",
       "      <td>-31</td>\n",
       "      <td>-28</td>\n",
       "      <td>1884</td>\n",
       "    </tr>\n",
       "  </tbody>\n",
       "</table>\n",
       "</div>"
      ],
      "text/plain": [
       "      Jan  Feb  Mar  Apr  May  Jun  Jul  Aug  Sep  Oct  Nov  Dec  J-D  D-N  \\\n",
       "Year                                                                         \n",
       "1880  -34  -27  -22  -30  -16  -24  -19  -12  -20  -19  -16  -21  -22  ***   \n",
       "1881  -13  -16   -2   -3   -3  -27  -12   -8  -18  -23  -28  -18  -14  -14   \n",
       "1882    3    4   -2  -24  -20  -32  -27  -11  -11  -25  -25  -37  -17  -16   \n",
       "1883  -38  -38  -12  -20  -20   -8   -3  -13  -19  -19  -28  -21  -20  -21   \n",
       "1884  -20  -14  -31  -36  -33  -36  -31  -24  -29  -25  -29  -25  -28  -28   \n",
       "\n",
       "       DJF  MAM  JJA  SON Year.1  \n",
       "Year                              \n",
       "1880  ****  -23  -18  -18   1880  \n",
       "1881   -17   -3  -15  -23   1881  \n",
       "1882    -4  -15  -23  -20   1882  \n",
       "1883   -38  -18   -8  -22   1883  \n",
       "1884   -18  -33  -31  -28   1884  "
      ]
     },
     "execution_count": 58,
     "metadata": {},
     "output_type": "execute_result"
    }
   ],
   "source": [
    "# We didn't set a column number of the index of giss_temp, we can do that afterwards:\n",
    "giss_temp = giss_temp.set_index(\"Year\")\n",
    "giss_temp.head()"
   ]
  },
  {
   "cell_type": "markdown",
   "metadata": {},
   "source": [
    "### Dropping rows and columns"
   ]
  },
  {
   "cell_type": "code",
   "execution_count": 59,
   "metadata": {
    "collapsed": false
   },
   "outputs": [
    {
     "data": {
      "text/plain": [
       "Index(['Jan', 'Feb', 'Mar', 'Apr', 'May', 'Jun', 'Jul', 'Aug', 'Sep', 'Oct',\n",
       "       'Nov', 'Dec', 'J-D', 'D-N', 'DJF', 'MAM', 'JJA', 'SON', 'Year.1'],\n",
       "      dtype='object')"
      ]
     },
     "execution_count": 59,
     "metadata": {},
     "output_type": "execute_result"
    }
   ],
   "source": [
    "# 1 column is redundant with the index: \n",
    "giss_temp.columns"
   ]
  },
  {
   "cell_type": "code",
   "execution_count": 60,
   "metadata": {
    "collapsed": false
   },
   "outputs": [
    {
     "data": {
      "text/html": [
       "<div>\n",
       "<table border=\"1\" class=\"dataframe\">\n",
       "  <thead>\n",
       "    <tr style=\"text-align: right;\">\n",
       "      <th></th>\n",
       "      <th>Jan</th>\n",
       "      <th>Feb</th>\n",
       "      <th>Mar</th>\n",
       "      <th>Apr</th>\n",
       "      <th>May</th>\n",
       "      <th>Jun</th>\n",
       "      <th>Jul</th>\n",
       "      <th>Aug</th>\n",
       "      <th>Sep</th>\n",
       "      <th>Oct</th>\n",
       "      <th>Nov</th>\n",
       "      <th>Dec</th>\n",
       "      <th>J-D</th>\n",
       "      <th>D-N</th>\n",
       "      <th>DJF</th>\n",
       "      <th>MAM</th>\n",
       "      <th>JJA</th>\n",
       "      <th>SON</th>\n",
       "    </tr>\n",
       "    <tr>\n",
       "      <th>Year</th>\n",
       "      <th></th>\n",
       "      <th></th>\n",
       "      <th></th>\n",
       "      <th></th>\n",
       "      <th></th>\n",
       "      <th></th>\n",
       "      <th></th>\n",
       "      <th></th>\n",
       "      <th></th>\n",
       "      <th></th>\n",
       "      <th></th>\n",
       "      <th></th>\n",
       "      <th></th>\n",
       "      <th></th>\n",
       "      <th></th>\n",
       "      <th></th>\n",
       "      <th></th>\n",
       "      <th></th>\n",
       "    </tr>\n",
       "  </thead>\n",
       "  <tbody>\n",
       "    <tr>\n",
       "      <th>1880</th>\n",
       "      <td>-34</td>\n",
       "      <td>-27</td>\n",
       "      <td>-22</td>\n",
       "      <td>-30</td>\n",
       "      <td>-16</td>\n",
       "      <td>-24</td>\n",
       "      <td>-19</td>\n",
       "      <td>-12</td>\n",
       "      <td>-20</td>\n",
       "      <td>-19</td>\n",
       "      <td>-16</td>\n",
       "      <td>-21</td>\n",
       "      <td>-22</td>\n",
       "      <td>***</td>\n",
       "      <td>****</td>\n",
       "      <td>-23</td>\n",
       "      <td>-18</td>\n",
       "      <td>-18</td>\n",
       "    </tr>\n",
       "    <tr>\n",
       "      <th>1881</th>\n",
       "      <td>-13</td>\n",
       "      <td>-16</td>\n",
       "      <td>-2</td>\n",
       "      <td>-3</td>\n",
       "      <td>-3</td>\n",
       "      <td>-27</td>\n",
       "      <td>-12</td>\n",
       "      <td>-8</td>\n",
       "      <td>-18</td>\n",
       "      <td>-23</td>\n",
       "      <td>-28</td>\n",
       "      <td>-18</td>\n",
       "      <td>-14</td>\n",
       "      <td>-14</td>\n",
       "      <td>-17</td>\n",
       "      <td>-3</td>\n",
       "      <td>-15</td>\n",
       "      <td>-23</td>\n",
       "    </tr>\n",
       "    <tr>\n",
       "      <th>1882</th>\n",
       "      <td>3</td>\n",
       "      <td>4</td>\n",
       "      <td>-2</td>\n",
       "      <td>-24</td>\n",
       "      <td>-20</td>\n",
       "      <td>-32</td>\n",
       "      <td>-27</td>\n",
       "      <td>-11</td>\n",
       "      <td>-11</td>\n",
       "      <td>-25</td>\n",
       "      <td>-25</td>\n",
       "      <td>-37</td>\n",
       "      <td>-17</td>\n",
       "      <td>-16</td>\n",
       "      <td>-4</td>\n",
       "      <td>-15</td>\n",
       "      <td>-23</td>\n",
       "      <td>-20</td>\n",
       "    </tr>\n",
       "    <tr>\n",
       "      <th>1883</th>\n",
       "      <td>-38</td>\n",
       "      <td>-38</td>\n",
       "      <td>-12</td>\n",
       "      <td>-20</td>\n",
       "      <td>-20</td>\n",
       "      <td>-8</td>\n",
       "      <td>-3</td>\n",
       "      <td>-13</td>\n",
       "      <td>-19</td>\n",
       "      <td>-19</td>\n",
       "      <td>-28</td>\n",
       "      <td>-21</td>\n",
       "      <td>-20</td>\n",
       "      <td>-21</td>\n",
       "      <td>-38</td>\n",
       "      <td>-18</td>\n",
       "      <td>-8</td>\n",
       "      <td>-22</td>\n",
       "    </tr>\n",
       "    <tr>\n",
       "      <th>1884</th>\n",
       "      <td>-20</td>\n",
       "      <td>-14</td>\n",
       "      <td>-31</td>\n",
       "      <td>-36</td>\n",
       "      <td>-33</td>\n",
       "      <td>-36</td>\n",
       "      <td>-31</td>\n",
       "      <td>-24</td>\n",
       "      <td>-29</td>\n",
       "      <td>-25</td>\n",
       "      <td>-29</td>\n",
       "      <td>-25</td>\n",
       "      <td>-28</td>\n",
       "      <td>-28</td>\n",
       "      <td>-18</td>\n",
       "      <td>-33</td>\n",
       "      <td>-31</td>\n",
       "      <td>-28</td>\n",
       "    </tr>\n",
       "    <tr>\n",
       "      <th>1885</th>\n",
       "      <td>-57</td>\n",
       "      <td>-29</td>\n",
       "      <td>-19</td>\n",
       "      <td>-36</td>\n",
       "      <td>-35</td>\n",
       "      <td>-40</td>\n",
       "      <td>-28</td>\n",
       "      <td>-24</td>\n",
       "      <td>-17</td>\n",
       "      <td>-14</td>\n",
       "      <td>-14</td>\n",
       "      <td>0</td>\n",
       "      <td>-26</td>\n",
       "      <td>-28</td>\n",
       "      <td>-37</td>\n",
       "      <td>-30</td>\n",
       "      <td>-31</td>\n",
       "      <td>-15</td>\n",
       "    </tr>\n",
       "    <tr>\n",
       "      <th>1886</th>\n",
       "      <td>-37</td>\n",
       "      <td>-43</td>\n",
       "      <td>-34</td>\n",
       "      <td>-23</td>\n",
       "      <td>-21</td>\n",
       "      <td>-30</td>\n",
       "      <td>-13</td>\n",
       "      <td>-21</td>\n",
       "      <td>-12</td>\n",
       "      <td>-22</td>\n",
       "      <td>-29</td>\n",
       "      <td>-18</td>\n",
       "      <td>-25</td>\n",
       "      <td>-24</td>\n",
       "      <td>-26</td>\n",
       "      <td>-26</td>\n",
       "      <td>-21</td>\n",
       "      <td>-21</td>\n",
       "    </tr>\n",
       "    <tr>\n",
       "      <th>1887</th>\n",
       "      <td>-60</td>\n",
       "      <td>-43</td>\n",
       "      <td>-26</td>\n",
       "      <td>-34</td>\n",
       "      <td>-28</td>\n",
       "      <td>-25</td>\n",
       "      <td>-19</td>\n",
       "      <td>-28</td>\n",
       "      <td>-24</td>\n",
       "      <td>-33</td>\n",
       "      <td>-29</td>\n",
       "      <td>-40</td>\n",
       "      <td>-32</td>\n",
       "      <td>-30</td>\n",
       "      <td>-40</td>\n",
       "      <td>-29</td>\n",
       "      <td>-24</td>\n",
       "      <td>-28</td>\n",
       "    </tr>\n",
       "    <tr>\n",
       "      <th>...</th>\n",
       "      <td>...</td>\n",
       "      <td>...</td>\n",
       "      <td>...</td>\n",
       "      <td>...</td>\n",
       "      <td>...</td>\n",
       "      <td>...</td>\n",
       "      <td>...</td>\n",
       "      <td>...</td>\n",
       "      <td>...</td>\n",
       "      <td>...</td>\n",
       "      <td>...</td>\n",
       "      <td>...</td>\n",
       "      <td>...</td>\n",
       "      <td>...</td>\n",
       "      <td>...</td>\n",
       "      <td>...</td>\n",
       "      <td>...</td>\n",
       "      <td>...</td>\n",
       "    </tr>\n",
       "    <tr>\n",
       "      <th>2009</th>\n",
       "      <td>56</td>\n",
       "      <td>48</td>\n",
       "      <td>49</td>\n",
       "      <td>57</td>\n",
       "      <td>59</td>\n",
       "      <td>62</td>\n",
       "      <td>66</td>\n",
       "      <td>61</td>\n",
       "      <td>64</td>\n",
       "      <td>58</td>\n",
       "      <td>72</td>\n",
       "      <td>58</td>\n",
       "      <td>59</td>\n",
       "      <td>59</td>\n",
       "      <td>52</td>\n",
       "      <td>55</td>\n",
       "      <td>63</td>\n",
       "      <td>65</td>\n",
       "    </tr>\n",
       "    <tr>\n",
       "      <th>2010</th>\n",
       "      <td>66</td>\n",
       "      <td>75</td>\n",
       "      <td>87</td>\n",
       "      <td>82</td>\n",
       "      <td>71</td>\n",
       "      <td>60</td>\n",
       "      <td>56</td>\n",
       "      <td>59</td>\n",
       "      <td>55</td>\n",
       "      <td>65</td>\n",
       "      <td>74</td>\n",
       "      <td>44</td>\n",
       "      <td>66</td>\n",
       "      <td>67</td>\n",
       "      <td>66</td>\n",
       "      <td>80</td>\n",
       "      <td>58</td>\n",
       "      <td>65</td>\n",
       "    </tr>\n",
       "    <tr>\n",
       "      <th>2011</th>\n",
       "      <td>45</td>\n",
       "      <td>44</td>\n",
       "      <td>57</td>\n",
       "      <td>60</td>\n",
       "      <td>47</td>\n",
       "      <td>54</td>\n",
       "      <td>70</td>\n",
       "      <td>69</td>\n",
       "      <td>52</td>\n",
       "      <td>60</td>\n",
       "      <td>50</td>\n",
       "      <td>48</td>\n",
       "      <td>55</td>\n",
       "      <td>55</td>\n",
       "      <td>45</td>\n",
       "      <td>55</td>\n",
       "      <td>64</td>\n",
       "      <td>54</td>\n",
       "    </tr>\n",
       "    <tr>\n",
       "      <th>2012</th>\n",
       "      <td>38</td>\n",
       "      <td>43</td>\n",
       "      <td>52</td>\n",
       "      <td>62</td>\n",
       "      <td>71</td>\n",
       "      <td>59</td>\n",
       "      <td>50</td>\n",
       "      <td>56</td>\n",
       "      <td>68</td>\n",
       "      <td>73</td>\n",
       "      <td>69</td>\n",
       "      <td>46</td>\n",
       "      <td>57</td>\n",
       "      <td>57</td>\n",
       "      <td>43</td>\n",
       "      <td>62</td>\n",
       "      <td>55</td>\n",
       "      <td>70</td>\n",
       "    </tr>\n",
       "    <tr>\n",
       "      <th>2013</th>\n",
       "      <td>62</td>\n",
       "      <td>52</td>\n",
       "      <td>60</td>\n",
       "      <td>48</td>\n",
       "      <td>56</td>\n",
       "      <td>61</td>\n",
       "      <td>53</td>\n",
       "      <td>61</td>\n",
       "      <td>73</td>\n",
       "      <td>61</td>\n",
       "      <td>75</td>\n",
       "      <td>61</td>\n",
       "      <td>60</td>\n",
       "      <td>59</td>\n",
       "      <td>53</td>\n",
       "      <td>55</td>\n",
       "      <td>58</td>\n",
       "      <td>70</td>\n",
       "    </tr>\n",
       "    <tr>\n",
       "      <th>2014</th>\n",
       "      <td>68</td>\n",
       "      <td>44</td>\n",
       "      <td>71</td>\n",
       "      <td>72</td>\n",
       "      <td>79</td>\n",
       "      <td>62</td>\n",
       "      <td>50</td>\n",
       "      <td>74</td>\n",
       "      <td>81</td>\n",
       "      <td>78</td>\n",
       "      <td>64</td>\n",
       "      <td>74</td>\n",
       "      <td>68</td>\n",
       "      <td>67</td>\n",
       "      <td>58</td>\n",
       "      <td>74</td>\n",
       "      <td>62</td>\n",
       "      <td>74</td>\n",
       "    </tr>\n",
       "    <tr>\n",
       "      <th>2015</th>\n",
       "      <td>75</td>\n",
       "      <td>80</td>\n",
       "      <td>84</td>\n",
       "      <td>71</td>\n",
       "      <td>****</td>\n",
       "      <td>****</td>\n",
       "      <td>****</td>\n",
       "      <td>****</td>\n",
       "      <td>****</td>\n",
       "      <td>****</td>\n",
       "      <td>****</td>\n",
       "      <td>****</td>\n",
       "      <td>****</td>\n",
       "      <td>***</td>\n",
       "      <td>76</td>\n",
       "      <td>****</td>\n",
       "      <td>****</td>\n",
       "      <td>****</td>\n",
       "    </tr>\n",
       "    <tr>\n",
       "      <th>Year</th>\n",
       "      <td>Jan</td>\n",
       "      <td>Feb</td>\n",
       "      <td>Mar</td>\n",
       "      <td>Apr</td>\n",
       "      <td>May</td>\n",
       "      <td>Jun</td>\n",
       "      <td>Jul</td>\n",
       "      <td>Aug</td>\n",
       "      <td>Sep</td>\n",
       "      <td>Oct</td>\n",
       "      <td>Nov</td>\n",
       "      <td>Dec</td>\n",
       "      <td>J-D</td>\n",
       "      <td>D-N</td>\n",
       "      <td>DJF</td>\n",
       "      <td>MAM</td>\n",
       "      <td>JJA</td>\n",
       "      <td>SON</td>\n",
       "    </tr>\n",
       "  </tbody>\n",
       "</table>\n",
       "<p>143 rows × 18 columns</p>\n",
       "</div>"
      ],
      "text/plain": [
       "      Jan  Feb  Mar  Apr   May   Jun   Jul   Aug   Sep   Oct   Nov   Dec  \\\n",
       "Year                                                                       \n",
       "1880  -34  -27  -22  -30   -16   -24   -19   -12   -20   -19   -16   -21   \n",
       "1881  -13  -16   -2   -3    -3   -27   -12    -8   -18   -23   -28   -18   \n",
       "1882    3    4   -2  -24   -20   -32   -27   -11   -11   -25   -25   -37   \n",
       "1883  -38  -38  -12  -20   -20    -8    -3   -13   -19   -19   -28   -21   \n",
       "1884  -20  -14  -31  -36   -33   -36   -31   -24   -29   -25   -29   -25   \n",
       "1885  -57  -29  -19  -36   -35   -40   -28   -24   -17   -14   -14     0   \n",
       "1886  -37  -43  -34  -23   -21   -30   -13   -21   -12   -22   -29   -18   \n",
       "1887  -60  -43  -26  -34   -28   -25   -19   -28   -24   -33   -29   -40   \n",
       "...   ...  ...  ...  ...   ...   ...   ...   ...   ...   ...   ...   ...   \n",
       "2009   56   48   49   57    59    62    66    61    64    58    72    58   \n",
       "2010   66   75   87   82    71    60    56    59    55    65    74    44   \n",
       "2011   45   44   57   60    47    54    70    69    52    60    50    48   \n",
       "2012   38   43   52   62    71    59    50    56    68    73    69    46   \n",
       "2013   62   52   60   48    56    61    53    61    73    61    75    61   \n",
       "2014   68   44   71   72    79    62    50    74    81    78    64    74   \n",
       "2015   75   80   84   71  ****  ****  ****  ****  ****  ****  ****  ****   \n",
       "Year  Jan  Feb  Mar  Apr   May   Jun   Jul   Aug   Sep   Oct   Nov   Dec   \n",
       "\n",
       "       J-D  D-N   DJF   MAM   JJA   SON  \n",
       "Year                                     \n",
       "1880   -22  ***  ****   -23   -18   -18  \n",
       "1881   -14  -14   -17    -3   -15   -23  \n",
       "1882   -17  -16    -4   -15   -23   -20  \n",
       "1883   -20  -21   -38   -18    -8   -22  \n",
       "1884   -28  -28   -18   -33   -31   -28  \n",
       "1885   -26  -28   -37   -30   -31   -15  \n",
       "1886   -25  -24   -26   -26   -21   -21  \n",
       "1887   -32  -30   -40   -29   -24   -28  \n",
       "...    ...  ...   ...   ...   ...   ...  \n",
       "2009    59   59    52    55    63    65  \n",
       "2010    66   67    66    80    58    65  \n",
       "2011    55   55    45    55    64    54  \n",
       "2012    57   57    43    62    55    70  \n",
       "2013    60   59    53    55    58    70  \n",
       "2014    68   67    58    74    62    74  \n",
       "2015  ****  ***    76  ****  ****  ****  \n",
       "Year   J-D  D-N   DJF   MAM   JJA   SON  \n",
       "\n",
       "[143 rows x 18 columns]"
      ]
     },
     "execution_count": 60,
     "metadata": {},
     "output_type": "execute_result"
    }
   ],
   "source": [
    "# Let's drop it:\n",
    "giss_temp = giss_temp.drop(\"Year.1\", axis=1)\n",
    "giss_temp"
   ]
  },
  {
   "cell_type": "code",
   "execution_count": 61,
   "metadata": {
    "collapsed": false
   },
   "outputs": [
    {
     "data": {
      "text/html": [
       "<div>\n",
       "<table border=\"1\" class=\"dataframe\">\n",
       "  <thead>\n",
       "    <tr style=\"text-align: right;\">\n",
       "      <th></th>\n",
       "      <th>Jan</th>\n",
       "      <th>Feb</th>\n",
       "      <th>Mar</th>\n",
       "      <th>Apr</th>\n",
       "      <th>May</th>\n",
       "      <th>Jun</th>\n",
       "      <th>Jul</th>\n",
       "      <th>Aug</th>\n",
       "      <th>Sep</th>\n",
       "      <th>Oct</th>\n",
       "      <th>Nov</th>\n",
       "      <th>Dec</th>\n",
       "    </tr>\n",
       "    <tr>\n",
       "      <th>Year</th>\n",
       "      <th></th>\n",
       "      <th></th>\n",
       "      <th></th>\n",
       "      <th></th>\n",
       "      <th></th>\n",
       "      <th></th>\n",
       "      <th></th>\n",
       "      <th></th>\n",
       "      <th></th>\n",
       "      <th></th>\n",
       "      <th></th>\n",
       "      <th></th>\n",
       "    </tr>\n",
       "  </thead>\n",
       "  <tbody>\n",
       "    <tr>\n",
       "      <th>1880</th>\n",
       "      <td>-34</td>\n",
       "      <td>-27</td>\n",
       "      <td>-22</td>\n",
       "      <td>-30</td>\n",
       "      <td>-16</td>\n",
       "      <td>-24</td>\n",
       "      <td>-19</td>\n",
       "      <td>-12</td>\n",
       "      <td>-20</td>\n",
       "      <td>-19</td>\n",
       "      <td>-16</td>\n",
       "      <td>-21</td>\n",
       "    </tr>\n",
       "    <tr>\n",
       "      <th>1881</th>\n",
       "      <td>-13</td>\n",
       "      <td>-16</td>\n",
       "      <td>-2</td>\n",
       "      <td>-3</td>\n",
       "      <td>-3</td>\n",
       "      <td>-27</td>\n",
       "      <td>-12</td>\n",
       "      <td>-8</td>\n",
       "      <td>-18</td>\n",
       "      <td>-23</td>\n",
       "      <td>-28</td>\n",
       "      <td>-18</td>\n",
       "    </tr>\n",
       "    <tr>\n",
       "      <th>1882</th>\n",
       "      <td>3</td>\n",
       "      <td>4</td>\n",
       "      <td>-2</td>\n",
       "      <td>-24</td>\n",
       "      <td>-20</td>\n",
       "      <td>-32</td>\n",
       "      <td>-27</td>\n",
       "      <td>-11</td>\n",
       "      <td>-11</td>\n",
       "      <td>-25</td>\n",
       "      <td>-25</td>\n",
       "      <td>-37</td>\n",
       "    </tr>\n",
       "    <tr>\n",
       "      <th>1883</th>\n",
       "      <td>-38</td>\n",
       "      <td>-38</td>\n",
       "      <td>-12</td>\n",
       "      <td>-20</td>\n",
       "      <td>-20</td>\n",
       "      <td>-8</td>\n",
       "      <td>-3</td>\n",
       "      <td>-13</td>\n",
       "      <td>-19</td>\n",
       "      <td>-19</td>\n",
       "      <td>-28</td>\n",
       "      <td>-21</td>\n",
       "    </tr>\n",
       "    <tr>\n",
       "      <th>1884</th>\n",
       "      <td>-20</td>\n",
       "      <td>-14</td>\n",
       "      <td>-31</td>\n",
       "      <td>-36</td>\n",
       "      <td>-33</td>\n",
       "      <td>-36</td>\n",
       "      <td>-31</td>\n",
       "      <td>-24</td>\n",
       "      <td>-29</td>\n",
       "      <td>-25</td>\n",
       "      <td>-29</td>\n",
       "      <td>-25</td>\n",
       "    </tr>\n",
       "    <tr>\n",
       "      <th>1885</th>\n",
       "      <td>-57</td>\n",
       "      <td>-29</td>\n",
       "      <td>-19</td>\n",
       "      <td>-36</td>\n",
       "      <td>-35</td>\n",
       "      <td>-40</td>\n",
       "      <td>-28</td>\n",
       "      <td>-24</td>\n",
       "      <td>-17</td>\n",
       "      <td>-14</td>\n",
       "      <td>-14</td>\n",
       "      <td>0</td>\n",
       "    </tr>\n",
       "    <tr>\n",
       "      <th>1886</th>\n",
       "      <td>-37</td>\n",
       "      <td>-43</td>\n",
       "      <td>-34</td>\n",
       "      <td>-23</td>\n",
       "      <td>-21</td>\n",
       "      <td>-30</td>\n",
       "      <td>-13</td>\n",
       "      <td>-21</td>\n",
       "      <td>-12</td>\n",
       "      <td>-22</td>\n",
       "      <td>-29</td>\n",
       "      <td>-18</td>\n",
       "    </tr>\n",
       "    <tr>\n",
       "      <th>1887</th>\n",
       "      <td>-60</td>\n",
       "      <td>-43</td>\n",
       "      <td>-26</td>\n",
       "      <td>-34</td>\n",
       "      <td>-28</td>\n",
       "      <td>-25</td>\n",
       "      <td>-19</td>\n",
       "      <td>-28</td>\n",
       "      <td>-24</td>\n",
       "      <td>-33</td>\n",
       "      <td>-29</td>\n",
       "      <td>-40</td>\n",
       "    </tr>\n",
       "    <tr>\n",
       "      <th>...</th>\n",
       "      <td>...</td>\n",
       "      <td>...</td>\n",
       "      <td>...</td>\n",
       "      <td>...</td>\n",
       "      <td>...</td>\n",
       "      <td>...</td>\n",
       "      <td>...</td>\n",
       "      <td>...</td>\n",
       "      <td>...</td>\n",
       "      <td>...</td>\n",
       "      <td>...</td>\n",
       "      <td>...</td>\n",
       "    </tr>\n",
       "    <tr>\n",
       "      <th>2009</th>\n",
       "      <td>56</td>\n",
       "      <td>48</td>\n",
       "      <td>49</td>\n",
       "      <td>57</td>\n",
       "      <td>59</td>\n",
       "      <td>62</td>\n",
       "      <td>66</td>\n",
       "      <td>61</td>\n",
       "      <td>64</td>\n",
       "      <td>58</td>\n",
       "      <td>72</td>\n",
       "      <td>58</td>\n",
       "    </tr>\n",
       "    <tr>\n",
       "      <th>2010</th>\n",
       "      <td>66</td>\n",
       "      <td>75</td>\n",
       "      <td>87</td>\n",
       "      <td>82</td>\n",
       "      <td>71</td>\n",
       "      <td>60</td>\n",
       "      <td>56</td>\n",
       "      <td>59</td>\n",
       "      <td>55</td>\n",
       "      <td>65</td>\n",
       "      <td>74</td>\n",
       "      <td>44</td>\n",
       "    </tr>\n",
       "    <tr>\n",
       "      <th>2011</th>\n",
       "      <td>45</td>\n",
       "      <td>44</td>\n",
       "      <td>57</td>\n",
       "      <td>60</td>\n",
       "      <td>47</td>\n",
       "      <td>54</td>\n",
       "      <td>70</td>\n",
       "      <td>69</td>\n",
       "      <td>52</td>\n",
       "      <td>60</td>\n",
       "      <td>50</td>\n",
       "      <td>48</td>\n",
       "    </tr>\n",
       "    <tr>\n",
       "      <th>2012</th>\n",
       "      <td>38</td>\n",
       "      <td>43</td>\n",
       "      <td>52</td>\n",
       "      <td>62</td>\n",
       "      <td>71</td>\n",
       "      <td>59</td>\n",
       "      <td>50</td>\n",
       "      <td>56</td>\n",
       "      <td>68</td>\n",
       "      <td>73</td>\n",
       "      <td>69</td>\n",
       "      <td>46</td>\n",
       "    </tr>\n",
       "    <tr>\n",
       "      <th>2013</th>\n",
       "      <td>62</td>\n",
       "      <td>52</td>\n",
       "      <td>60</td>\n",
       "      <td>48</td>\n",
       "      <td>56</td>\n",
       "      <td>61</td>\n",
       "      <td>53</td>\n",
       "      <td>61</td>\n",
       "      <td>73</td>\n",
       "      <td>61</td>\n",
       "      <td>75</td>\n",
       "      <td>61</td>\n",
       "    </tr>\n",
       "    <tr>\n",
       "      <th>2014</th>\n",
       "      <td>68</td>\n",
       "      <td>44</td>\n",
       "      <td>71</td>\n",
       "      <td>72</td>\n",
       "      <td>79</td>\n",
       "      <td>62</td>\n",
       "      <td>50</td>\n",
       "      <td>74</td>\n",
       "      <td>81</td>\n",
       "      <td>78</td>\n",
       "      <td>64</td>\n",
       "      <td>74</td>\n",
       "    </tr>\n",
       "    <tr>\n",
       "      <th>2015</th>\n",
       "      <td>75</td>\n",
       "      <td>80</td>\n",
       "      <td>84</td>\n",
       "      <td>71</td>\n",
       "      <td>****</td>\n",
       "      <td>****</td>\n",
       "      <td>****</td>\n",
       "      <td>****</td>\n",
       "      <td>****</td>\n",
       "      <td>****</td>\n",
       "      <td>****</td>\n",
       "      <td>****</td>\n",
       "    </tr>\n",
       "    <tr>\n",
       "      <th>Year</th>\n",
       "      <td>Jan</td>\n",
       "      <td>Feb</td>\n",
       "      <td>Mar</td>\n",
       "      <td>Apr</td>\n",
       "      <td>May</td>\n",
       "      <td>Jun</td>\n",
       "      <td>Jul</td>\n",
       "      <td>Aug</td>\n",
       "      <td>Sep</td>\n",
       "      <td>Oct</td>\n",
       "      <td>Nov</td>\n",
       "      <td>Dec</td>\n",
       "    </tr>\n",
       "  </tbody>\n",
       "</table>\n",
       "<p>143 rows × 12 columns</p>\n",
       "</div>"
      ],
      "text/plain": [
       "      Jan  Feb  Mar  Apr   May   Jun   Jul   Aug   Sep   Oct   Nov   Dec\n",
       "Year                                                                    \n",
       "1880  -34  -27  -22  -30   -16   -24   -19   -12   -20   -19   -16   -21\n",
       "1881  -13  -16   -2   -3    -3   -27   -12    -8   -18   -23   -28   -18\n",
       "1882    3    4   -2  -24   -20   -32   -27   -11   -11   -25   -25   -37\n",
       "1883  -38  -38  -12  -20   -20    -8    -3   -13   -19   -19   -28   -21\n",
       "1884  -20  -14  -31  -36   -33   -36   -31   -24   -29   -25   -29   -25\n",
       "1885  -57  -29  -19  -36   -35   -40   -28   -24   -17   -14   -14     0\n",
       "1886  -37  -43  -34  -23   -21   -30   -13   -21   -12   -22   -29   -18\n",
       "1887  -60  -43  -26  -34   -28   -25   -19   -28   -24   -33   -29   -40\n",
       "...   ...  ...  ...  ...   ...   ...   ...   ...   ...   ...   ...   ...\n",
       "2009   56   48   49   57    59    62    66    61    64    58    72    58\n",
       "2010   66   75   87   82    71    60    56    59    55    65    74    44\n",
       "2011   45   44   57   60    47    54    70    69    52    60    50    48\n",
       "2012   38   43   52   62    71    59    50    56    68    73    69    46\n",
       "2013   62   52   60   48    56    61    53    61    73    61    75    61\n",
       "2014   68   44   71   72    79    62    50    74    81    78    64    74\n",
       "2015   75   80   84   71  ****  ****  ****  ****  ****  ****  ****  ****\n",
       "Year  Jan  Feb  Mar  Apr   May   Jun   Jul   Aug   Sep   Oct   Nov   Dec\n",
       "\n",
       "[143 rows x 12 columns]"
      ]
     },
     "execution_count": 61,
     "metadata": {},
     "output_type": "execute_result"
    }
   ],
   "source": [
    "# We can also just select the columns we want to keep:\n",
    "giss_temp = giss_temp[[u'Jan', u'Feb', u'Mar', u'Apr', u'May', u'Jun', u'Jul', \n",
    "                       u'Aug', u'Sep', u'Oct', u'Nov', u'Dec']]\n",
    "giss_temp"
   ]
  },
  {
   "cell_type": "code",
   "execution_count": 62,
   "metadata": {
    "collapsed": false
   },
   "outputs": [
    {
     "data": {
      "text/html": [
       "<div>\n",
       "<table border=\"1\" class=\"dataframe\">\n",
       "  <thead>\n",
       "    <tr style=\"text-align: right;\">\n",
       "      <th></th>\n",
       "      <th>Jan</th>\n",
       "      <th>Feb</th>\n",
       "      <th>Mar</th>\n",
       "      <th>Apr</th>\n",
       "      <th>May</th>\n",
       "      <th>Jun</th>\n",
       "      <th>Jul</th>\n",
       "      <th>Aug</th>\n",
       "      <th>Sep</th>\n",
       "      <th>Oct</th>\n",
       "      <th>Nov</th>\n",
       "      <th>Dec</th>\n",
       "    </tr>\n",
       "    <tr>\n",
       "      <th>Year</th>\n",
       "      <th></th>\n",
       "      <th></th>\n",
       "      <th></th>\n",
       "      <th></th>\n",
       "      <th></th>\n",
       "      <th></th>\n",
       "      <th></th>\n",
       "      <th></th>\n",
       "      <th></th>\n",
       "      <th></th>\n",
       "      <th></th>\n",
       "      <th></th>\n",
       "    </tr>\n",
       "  </thead>\n",
       "  <tbody>\n",
       "    <tr>\n",
       "      <th>1880</th>\n",
       "      <td>-34</td>\n",
       "      <td>-27</td>\n",
       "      <td>-22</td>\n",
       "      <td>-30</td>\n",
       "      <td>-16</td>\n",
       "      <td>-24</td>\n",
       "      <td>-19</td>\n",
       "      <td>-12</td>\n",
       "      <td>-20</td>\n",
       "      <td>-19</td>\n",
       "      <td>-16</td>\n",
       "      <td>-21</td>\n",
       "    </tr>\n",
       "    <tr>\n",
       "      <th>1881</th>\n",
       "      <td>-13</td>\n",
       "      <td>-16</td>\n",
       "      <td>-2</td>\n",
       "      <td>-3</td>\n",
       "      <td>-3</td>\n",
       "      <td>-27</td>\n",
       "      <td>-12</td>\n",
       "      <td>-8</td>\n",
       "      <td>-18</td>\n",
       "      <td>-23</td>\n",
       "      <td>-28</td>\n",
       "      <td>-18</td>\n",
       "    </tr>\n",
       "    <tr>\n",
       "      <th>1882</th>\n",
       "      <td>3</td>\n",
       "      <td>4</td>\n",
       "      <td>-2</td>\n",
       "      <td>-24</td>\n",
       "      <td>-20</td>\n",
       "      <td>-32</td>\n",
       "      <td>-27</td>\n",
       "      <td>-11</td>\n",
       "      <td>-11</td>\n",
       "      <td>-25</td>\n",
       "      <td>-25</td>\n",
       "      <td>-37</td>\n",
       "    </tr>\n",
       "    <tr>\n",
       "      <th>1883</th>\n",
       "      <td>-38</td>\n",
       "      <td>-38</td>\n",
       "      <td>-12</td>\n",
       "      <td>-20</td>\n",
       "      <td>-20</td>\n",
       "      <td>-8</td>\n",
       "      <td>-3</td>\n",
       "      <td>-13</td>\n",
       "      <td>-19</td>\n",
       "      <td>-19</td>\n",
       "      <td>-28</td>\n",
       "      <td>-21</td>\n",
       "    </tr>\n",
       "    <tr>\n",
       "      <th>1884</th>\n",
       "      <td>-20</td>\n",
       "      <td>-14</td>\n",
       "      <td>-31</td>\n",
       "      <td>-36</td>\n",
       "      <td>-33</td>\n",
       "      <td>-36</td>\n",
       "      <td>-31</td>\n",
       "      <td>-24</td>\n",
       "      <td>-29</td>\n",
       "      <td>-25</td>\n",
       "      <td>-29</td>\n",
       "      <td>-25</td>\n",
       "    </tr>\n",
       "    <tr>\n",
       "      <th>1885</th>\n",
       "      <td>-57</td>\n",
       "      <td>-29</td>\n",
       "      <td>-19</td>\n",
       "      <td>-36</td>\n",
       "      <td>-35</td>\n",
       "      <td>-40</td>\n",
       "      <td>-28</td>\n",
       "      <td>-24</td>\n",
       "      <td>-17</td>\n",
       "      <td>-14</td>\n",
       "      <td>-14</td>\n",
       "      <td>0</td>\n",
       "    </tr>\n",
       "    <tr>\n",
       "      <th>1886</th>\n",
       "      <td>-37</td>\n",
       "      <td>-43</td>\n",
       "      <td>-34</td>\n",
       "      <td>-23</td>\n",
       "      <td>-21</td>\n",
       "      <td>-30</td>\n",
       "      <td>-13</td>\n",
       "      <td>-21</td>\n",
       "      <td>-12</td>\n",
       "      <td>-22</td>\n",
       "      <td>-29</td>\n",
       "      <td>-18</td>\n",
       "    </tr>\n",
       "    <tr>\n",
       "      <th>1887</th>\n",
       "      <td>-60</td>\n",
       "      <td>-43</td>\n",
       "      <td>-26</td>\n",
       "      <td>-34</td>\n",
       "      <td>-28</td>\n",
       "      <td>-25</td>\n",
       "      <td>-19</td>\n",
       "      <td>-28</td>\n",
       "      <td>-24</td>\n",
       "      <td>-33</td>\n",
       "      <td>-29</td>\n",
       "      <td>-40</td>\n",
       "    </tr>\n",
       "    <tr>\n",
       "      <th>...</th>\n",
       "      <td>...</td>\n",
       "      <td>...</td>\n",
       "      <td>...</td>\n",
       "      <td>...</td>\n",
       "      <td>...</td>\n",
       "      <td>...</td>\n",
       "      <td>...</td>\n",
       "      <td>...</td>\n",
       "      <td>...</td>\n",
       "      <td>...</td>\n",
       "      <td>...</td>\n",
       "      <td>...</td>\n",
       "    </tr>\n",
       "    <tr>\n",
       "      <th>2008</th>\n",
       "      <td>22</td>\n",
       "      <td>31</td>\n",
       "      <td>70</td>\n",
       "      <td>48</td>\n",
       "      <td>46</td>\n",
       "      <td>43</td>\n",
       "      <td>54</td>\n",
       "      <td>39</td>\n",
       "      <td>59</td>\n",
       "      <td>62</td>\n",
       "      <td>62</td>\n",
       "      <td>51</td>\n",
       "    </tr>\n",
       "    <tr>\n",
       "      <th>2009</th>\n",
       "      <td>56</td>\n",
       "      <td>48</td>\n",
       "      <td>49</td>\n",
       "      <td>57</td>\n",
       "      <td>59</td>\n",
       "      <td>62</td>\n",
       "      <td>66</td>\n",
       "      <td>61</td>\n",
       "      <td>64</td>\n",
       "      <td>58</td>\n",
       "      <td>72</td>\n",
       "      <td>58</td>\n",
       "    </tr>\n",
       "    <tr>\n",
       "      <th>2010</th>\n",
       "      <td>66</td>\n",
       "      <td>75</td>\n",
       "      <td>87</td>\n",
       "      <td>82</td>\n",
       "      <td>71</td>\n",
       "      <td>60</td>\n",
       "      <td>56</td>\n",
       "      <td>59</td>\n",
       "      <td>55</td>\n",
       "      <td>65</td>\n",
       "      <td>74</td>\n",
       "      <td>44</td>\n",
       "    </tr>\n",
       "    <tr>\n",
       "      <th>2011</th>\n",
       "      <td>45</td>\n",
       "      <td>44</td>\n",
       "      <td>57</td>\n",
       "      <td>60</td>\n",
       "      <td>47</td>\n",
       "      <td>54</td>\n",
       "      <td>70</td>\n",
       "      <td>69</td>\n",
       "      <td>52</td>\n",
       "      <td>60</td>\n",
       "      <td>50</td>\n",
       "      <td>48</td>\n",
       "    </tr>\n",
       "    <tr>\n",
       "      <th>2012</th>\n",
       "      <td>38</td>\n",
       "      <td>43</td>\n",
       "      <td>52</td>\n",
       "      <td>62</td>\n",
       "      <td>71</td>\n",
       "      <td>59</td>\n",
       "      <td>50</td>\n",
       "      <td>56</td>\n",
       "      <td>68</td>\n",
       "      <td>73</td>\n",
       "      <td>69</td>\n",
       "      <td>46</td>\n",
       "    </tr>\n",
       "    <tr>\n",
       "      <th>2013</th>\n",
       "      <td>62</td>\n",
       "      <td>52</td>\n",
       "      <td>60</td>\n",
       "      <td>48</td>\n",
       "      <td>56</td>\n",
       "      <td>61</td>\n",
       "      <td>53</td>\n",
       "      <td>61</td>\n",
       "      <td>73</td>\n",
       "      <td>61</td>\n",
       "      <td>75</td>\n",
       "      <td>61</td>\n",
       "    </tr>\n",
       "    <tr>\n",
       "      <th>2014</th>\n",
       "      <td>68</td>\n",
       "      <td>44</td>\n",
       "      <td>71</td>\n",
       "      <td>72</td>\n",
       "      <td>79</td>\n",
       "      <td>62</td>\n",
       "      <td>50</td>\n",
       "      <td>74</td>\n",
       "      <td>81</td>\n",
       "      <td>78</td>\n",
       "      <td>64</td>\n",
       "      <td>74</td>\n",
       "    </tr>\n",
       "    <tr>\n",
       "      <th>2015</th>\n",
       "      <td>75</td>\n",
       "      <td>80</td>\n",
       "      <td>84</td>\n",
       "      <td>71</td>\n",
       "      <td>****</td>\n",
       "      <td>****</td>\n",
       "      <td>****</td>\n",
       "      <td>****</td>\n",
       "      <td>****</td>\n",
       "      <td>****</td>\n",
       "      <td>****</td>\n",
       "      <td>****</td>\n",
       "    </tr>\n",
       "  </tbody>\n",
       "</table>\n",
       "<p>136 rows × 12 columns</p>\n",
       "</div>"
      ],
      "text/plain": [
       "      Jan  Feb  Mar  Apr   May   Jun   Jul   Aug   Sep   Oct   Nov   Dec\n",
       "Year                                                                    \n",
       "1880  -34  -27  -22  -30   -16   -24   -19   -12   -20   -19   -16   -21\n",
       "1881  -13  -16   -2   -3    -3   -27   -12    -8   -18   -23   -28   -18\n",
       "1882    3    4   -2  -24   -20   -32   -27   -11   -11   -25   -25   -37\n",
       "1883  -38  -38  -12  -20   -20    -8    -3   -13   -19   -19   -28   -21\n",
       "1884  -20  -14  -31  -36   -33   -36   -31   -24   -29   -25   -29   -25\n",
       "1885  -57  -29  -19  -36   -35   -40   -28   -24   -17   -14   -14     0\n",
       "1886  -37  -43  -34  -23   -21   -30   -13   -21   -12   -22   -29   -18\n",
       "1887  -60  -43  -26  -34   -28   -25   -19   -28   -24   -33   -29   -40\n",
       "...   ...  ...  ...  ...   ...   ...   ...   ...   ...   ...   ...   ...\n",
       "2008   22   31   70   48    46    43    54    39    59    62    62    51\n",
       "2009   56   48   49   57    59    62    66    61    64    58    72    58\n",
       "2010   66   75   87   82    71    60    56    59    55    65    74    44\n",
       "2011   45   44   57   60    47    54    70    69    52    60    50    48\n",
       "2012   38   43   52   62    71    59    50    56    68    73    69    46\n",
       "2013   62   52   60   48    56    61    53    61    73    61    75    61\n",
       "2014   68   44   71   72    79    62    50    74    81    78    64    74\n",
       "2015   75   80   84   71  ****  ****  ****  ****  ****  ****  ****  ****\n",
       "\n",
       "[136 rows x 12 columns]"
      ]
     },
     "execution_count": 62,
     "metadata": {},
     "output_type": "execute_result"
    }
   ],
   "source": [
    "# Let's remove all these extra column names (Year  Jan ...). They all correspond to the index \"Year\"\n",
    "giss_temp = giss_temp.drop(\"Year\")\n",
    "giss_temp"
   ]
  },
  {
   "cell_type": "markdown",
   "metadata": {},
   "source": [
    "Let's also set `****` to a real missing value (`np.nan`). We can often do it using a boolean mask, but that may trigger pandas warning. Another way to assign based on a boolean condition is to use the `where` method:"
   ]
  },
  {
   "cell_type": "code",
   "execution_count": 63,
   "metadata": {
    "collapsed": false
   },
   "outputs": [],
   "source": [
    "#giss_temp[giss_temp == \"****\"] = np.nan\n",
    "giss_temp = giss_temp.where(giss_temp != \"****\", np.nan)"
   ]
  },
  {
   "cell_type": "code",
   "execution_count": 64,
   "metadata": {
    "collapsed": false
   },
   "outputs": [
    {
     "data": {
      "text/html": [
       "<div>\n",
       "<table border=\"1\" class=\"dataframe\">\n",
       "  <thead>\n",
       "    <tr style=\"text-align: right;\">\n",
       "      <th></th>\n",
       "      <th>Jan</th>\n",
       "      <th>Feb</th>\n",
       "      <th>Mar</th>\n",
       "      <th>Apr</th>\n",
       "      <th>May</th>\n",
       "      <th>Jun</th>\n",
       "      <th>Jul</th>\n",
       "      <th>Aug</th>\n",
       "      <th>Sep</th>\n",
       "      <th>Oct</th>\n",
       "      <th>Nov</th>\n",
       "      <th>Dec</th>\n",
       "    </tr>\n",
       "    <tr>\n",
       "      <th>Year</th>\n",
       "      <th></th>\n",
       "      <th></th>\n",
       "      <th></th>\n",
       "      <th></th>\n",
       "      <th></th>\n",
       "      <th></th>\n",
       "      <th></th>\n",
       "      <th></th>\n",
       "      <th></th>\n",
       "      <th></th>\n",
       "      <th></th>\n",
       "      <th></th>\n",
       "    </tr>\n",
       "  </thead>\n",
       "  <tbody>\n",
       "    <tr>\n",
       "      <th>2011</th>\n",
       "      <td>45</td>\n",
       "      <td>44</td>\n",
       "      <td>57</td>\n",
       "      <td>60</td>\n",
       "      <td>47</td>\n",
       "      <td>54</td>\n",
       "      <td>70</td>\n",
       "      <td>69</td>\n",
       "      <td>52</td>\n",
       "      <td>60</td>\n",
       "      <td>50</td>\n",
       "      <td>48</td>\n",
       "    </tr>\n",
       "    <tr>\n",
       "      <th>2012</th>\n",
       "      <td>38</td>\n",
       "      <td>43</td>\n",
       "      <td>52</td>\n",
       "      <td>62</td>\n",
       "      <td>71</td>\n",
       "      <td>59</td>\n",
       "      <td>50</td>\n",
       "      <td>56</td>\n",
       "      <td>68</td>\n",
       "      <td>73</td>\n",
       "      <td>69</td>\n",
       "      <td>46</td>\n",
       "    </tr>\n",
       "    <tr>\n",
       "      <th>2013</th>\n",
       "      <td>62</td>\n",
       "      <td>52</td>\n",
       "      <td>60</td>\n",
       "      <td>48</td>\n",
       "      <td>56</td>\n",
       "      <td>61</td>\n",
       "      <td>53</td>\n",
       "      <td>61</td>\n",
       "      <td>73</td>\n",
       "      <td>61</td>\n",
       "      <td>75</td>\n",
       "      <td>61</td>\n",
       "    </tr>\n",
       "    <tr>\n",
       "      <th>2014</th>\n",
       "      <td>68</td>\n",
       "      <td>44</td>\n",
       "      <td>71</td>\n",
       "      <td>72</td>\n",
       "      <td>79</td>\n",
       "      <td>62</td>\n",
       "      <td>50</td>\n",
       "      <td>74</td>\n",
       "      <td>81</td>\n",
       "      <td>78</td>\n",
       "      <td>64</td>\n",
       "      <td>74</td>\n",
       "    </tr>\n",
       "    <tr>\n",
       "      <th>2015</th>\n",
       "      <td>75</td>\n",
       "      <td>80</td>\n",
       "      <td>84</td>\n",
       "      <td>71</td>\n",
       "      <td>NaN</td>\n",
       "      <td>NaN</td>\n",
       "      <td>NaN</td>\n",
       "      <td>NaN</td>\n",
       "      <td>NaN</td>\n",
       "      <td>NaN</td>\n",
       "      <td>NaN</td>\n",
       "      <td>NaN</td>\n",
       "    </tr>\n",
       "  </tbody>\n",
       "</table>\n",
       "</div>"
      ],
      "text/plain": [
       "     Jan Feb Mar Apr  May  Jun  Jul  Aug  Sep  Oct  Nov  Dec\n",
       "Year                                                        \n",
       "2011  45  44  57  60   47   54   70   69   52   60   50   48\n",
       "2012  38  43  52  62   71   59   50   56   68   73   69   46\n",
       "2013  62  52  60  48   56   61   53   61   73   61   75   61\n",
       "2014  68  44  71  72   79   62   50   74   81   78   64   74\n",
       "2015  75  80  84  71  NaN  NaN  NaN  NaN  NaN  NaN  NaN  NaN"
      ]
     },
     "execution_count": 64,
     "metadata": {},
     "output_type": "execute_result"
    }
   ],
   "source": [
    "giss_temp.tail()"
   ]
  },
  {
   "cell_type": "markdown",
   "metadata": {},
   "source": [
    "### Adding columns"
   ]
  },
  {
   "cell_type": "markdown",
   "metadata": {},
   "source": [
    "While building the `mean_sea_level` dataFrame earlier, we didn't include the values from `global_sea_level` since the years were not aligned. Adding a column to a dataframe is as easy as adding an entry to a dictionary. So let's try:"
   ]
  },
  {
   "cell_type": "code",
   "execution_count": 65,
   "metadata": {
    "collapsed": false
   },
   "outputs": [
    {
     "data": {
      "text/html": [
       "<div>\n",
       "<table border=\"1\" class=\"dataframe\">\n",
       "  <thead>\n",
       "    <tr style=\"text-align: right;\">\n",
       "      <th></th>\n",
       "      <th>northern_hem</th>\n",
       "      <th>southern_hem</th>\n",
       "      <th>mean_global</th>\n",
       "    </tr>\n",
       "    <tr>\n",
       "      <th>date</th>\n",
       "      <th></th>\n",
       "      <th></th>\n",
       "      <th></th>\n",
       "    </tr>\n",
       "  </thead>\n",
       "  <tbody>\n",
       "    <tr>\n",
       "      <th>1992.9323</th>\n",
       "      <td>13.717</td>\n",
       "      <td>2.517</td>\n",
       "      <td>NaN</td>\n",
       "    </tr>\n",
       "    <tr>\n",
       "      <th>1992.9595</th>\n",
       "      <td>1.328</td>\n",
       "      <td>-7.645</td>\n",
       "      <td>NaN</td>\n",
       "    </tr>\n",
       "    <tr>\n",
       "      <th>1992.9866</th>\n",
       "      <td>-13.375</td>\n",
       "      <td>-2.267</td>\n",
       "      <td>NaN</td>\n",
       "    </tr>\n",
       "    <tr>\n",
       "      <th>1993.0138</th>\n",
       "      <td>-24.723</td>\n",
       "      <td>0.855</td>\n",
       "      <td>NaN</td>\n",
       "    </tr>\n",
       "    <tr>\n",
       "      <th>1993.0409</th>\n",
       "      <td>-29.231</td>\n",
       "      <td>-2.020</td>\n",
       "      <td>NaN</td>\n",
       "    </tr>\n",
       "    <tr>\n",
       "      <th>1993.0681</th>\n",
       "      <td>-32.538</td>\n",
       "      <td>-0.398</td>\n",
       "      <td>NaN</td>\n",
       "    </tr>\n",
       "    <tr>\n",
       "      <th>1993.0952</th>\n",
       "      <td>-35.588</td>\n",
       "      <td>4.102</td>\n",
       "      <td>NaN</td>\n",
       "    </tr>\n",
       "    <tr>\n",
       "      <th>1993.1223</th>\n",
       "      <td>-26.579</td>\n",
       "      <td>6.787</td>\n",
       "      <td>NaN</td>\n",
       "    </tr>\n",
       "    <tr>\n",
       "      <th>...</th>\n",
       "      <td>...</td>\n",
       "      <td>...</td>\n",
       "      <td>...</td>\n",
       "    </tr>\n",
       "    <tr>\n",
       "      <th>2016.1440</th>\n",
       "      <td>49.218</td>\n",
       "      <td>84.902</td>\n",
       "      <td>NaN</td>\n",
       "    </tr>\n",
       "    <tr>\n",
       "      <th>2016.1711</th>\n",
       "      <td>44.274</td>\n",
       "      <td>83.829</td>\n",
       "      <td>NaN</td>\n",
       "    </tr>\n",
       "    <tr>\n",
       "      <th>2016.1983</th>\n",
       "      <td>33.961</td>\n",
       "      <td>86.020</td>\n",
       "      <td>NaN</td>\n",
       "    </tr>\n",
       "    <tr>\n",
       "      <th>2016.2254</th>\n",
       "      <td>42.199</td>\n",
       "      <td>88.122</td>\n",
       "      <td>NaN</td>\n",
       "    </tr>\n",
       "    <tr>\n",
       "      <th>2016.2526</th>\n",
       "      <td>45.004</td>\n",
       "      <td>88.090</td>\n",
       "      <td>NaN</td>\n",
       "    </tr>\n",
       "    <tr>\n",
       "      <th>2016.2797</th>\n",
       "      <td>49.809</td>\n",
       "      <td>87.806</td>\n",
       "      <td>NaN</td>\n",
       "    </tr>\n",
       "    <tr>\n",
       "      <th>2016.3068</th>\n",
       "      <td>55.401</td>\n",
       "      <td>77.270</td>\n",
       "      <td>NaN</td>\n",
       "    </tr>\n",
       "    <tr>\n",
       "      <th>2016.3340</th>\n",
       "      <td>50.416</td>\n",
       "      <td>70.916</td>\n",
       "      <td>NaN</td>\n",
       "    </tr>\n",
       "  </tbody>\n",
       "</table>\n",
       "<p>861 rows × 3 columns</p>\n",
       "</div>"
      ],
      "text/plain": [
       "           northern_hem  southern_hem  mean_global\n",
       "date                                              \n",
       "1992.9323        13.717         2.517          NaN\n",
       "1992.9595         1.328        -7.645          NaN\n",
       "1992.9866       -13.375        -2.267          NaN\n",
       "1993.0138       -24.723         0.855          NaN\n",
       "1993.0409       -29.231        -2.020          NaN\n",
       "1993.0681       -32.538        -0.398          NaN\n",
       "1993.0952       -35.588         4.102          NaN\n",
       "1993.1223       -26.579         6.787          NaN\n",
       "...                 ...           ...          ...\n",
       "2016.1440        49.218        84.902          NaN\n",
       "2016.1711        44.274        83.829          NaN\n",
       "2016.1983        33.961        86.020          NaN\n",
       "2016.2254        42.199        88.122          NaN\n",
       "2016.2526        45.004        88.090          NaN\n",
       "2016.2797        49.809        87.806          NaN\n",
       "2016.3068        55.401        77.270          NaN\n",
       "2016.3340        50.416        70.916          NaN\n",
       "\n",
       "[861 rows x 3 columns]"
      ]
     },
     "execution_count": 65,
     "metadata": {},
     "output_type": "execute_result"
    }
   ],
   "source": [
    "mean_sea_level[\"mean_global\"] = global_sea_level[\"msl_ib_ns(mm)\"]\n",
    "mean_sea_level"
   ]
  },
  {
   "cell_type": "markdown",
   "metadata": {},
   "source": [
    "The column is full of NaNs again because the auto-alignment feature of Pandas is searching for the index values like `1992.9323` in the index of `global_sea_level[\"msl_ib_ns(mm)\"]` series and not finding them. Let's set its index to these years so that that auto-alignment can work for us and figure out which values we have and not:"
   ]
  },
  {
   "cell_type": "code",
   "execution_count": 66,
   "metadata": {
    "collapsed": false
   },
   "outputs": [
    {
     "data": {
      "text/plain": [
       "year\n",
       "1992.9595    -5.818\n",
       "1992.9866    -7.525\n",
       "1993.0138    -9.215\n",
       "1993.0409   -11.796\n",
       "1993.0681   -11.291\n",
       "1993.0952    -9.569\n",
       "1993.1223    -3.714\n",
       "1993.1495    -2.471\n",
       "              ...  \n",
       "2014.9494    70.723\n",
       "2014.9766    70.522\n",
       "2015.0037    66.662\n",
       "2015.0309    64.804\n",
       "2015.0580    62.115\n",
       "2015.0852    68.589\n",
       "2015.1123    69.745\n",
       "2015.1395    75.007\n",
       "Name: msl_ib_ns(mm), dtype: float64"
      ]
     },
     "execution_count": 66,
     "metadata": {},
     "output_type": "execute_result"
    }
   ],
   "source": [
    "global_sea_level = global_sea_level.set_index(\"year\")\n",
    "global_sea_level[\"msl_ib_ns(mm)\"]"
   ]
  },
  {
   "cell_type": "code",
   "execution_count": 67,
   "metadata": {
    "collapsed": false
   },
   "outputs": [
    {
     "data": {
      "text/html": [
       "<div>\n",
       "<table border=\"1\" class=\"dataframe\">\n",
       "  <thead>\n",
       "    <tr style=\"text-align: right;\">\n",
       "      <th></th>\n",
       "      <th>northern_hem</th>\n",
       "      <th>southern_hem</th>\n",
       "      <th>mean_global</th>\n",
       "    </tr>\n",
       "    <tr>\n",
       "      <th>date</th>\n",
       "      <th></th>\n",
       "      <th></th>\n",
       "      <th></th>\n",
       "    </tr>\n",
       "  </thead>\n",
       "  <tbody>\n",
       "    <tr>\n",
       "      <th>1992.9323</th>\n",
       "      <td>13.717</td>\n",
       "      <td>2.517</td>\n",
       "      <td>NaN</td>\n",
       "    </tr>\n",
       "    <tr>\n",
       "      <th>1992.9595</th>\n",
       "      <td>1.328</td>\n",
       "      <td>-7.645</td>\n",
       "      <td>-5.818</td>\n",
       "    </tr>\n",
       "    <tr>\n",
       "      <th>1992.9866</th>\n",
       "      <td>-13.375</td>\n",
       "      <td>-2.267</td>\n",
       "      <td>-7.525</td>\n",
       "    </tr>\n",
       "    <tr>\n",
       "      <th>1993.0138</th>\n",
       "      <td>-24.723</td>\n",
       "      <td>0.855</td>\n",
       "      <td>-9.215</td>\n",
       "    </tr>\n",
       "    <tr>\n",
       "      <th>1993.0409</th>\n",
       "      <td>-29.231</td>\n",
       "      <td>-2.020</td>\n",
       "      <td>-11.796</td>\n",
       "    </tr>\n",
       "    <tr>\n",
       "      <th>1993.0681</th>\n",
       "      <td>-32.538</td>\n",
       "      <td>-0.398</td>\n",
       "      <td>-11.291</td>\n",
       "    </tr>\n",
       "    <tr>\n",
       "      <th>1993.0952</th>\n",
       "      <td>-35.588</td>\n",
       "      <td>4.102</td>\n",
       "      <td>-9.569</td>\n",
       "    </tr>\n",
       "    <tr>\n",
       "      <th>1993.1223</th>\n",
       "      <td>-26.579</td>\n",
       "      <td>6.787</td>\n",
       "      <td>-3.714</td>\n",
       "    </tr>\n",
       "    <tr>\n",
       "      <th>...</th>\n",
       "      <td>...</td>\n",
       "      <td>...</td>\n",
       "      <td>...</td>\n",
       "    </tr>\n",
       "    <tr>\n",
       "      <th>2016.1440</th>\n",
       "      <td>49.218</td>\n",
       "      <td>84.902</td>\n",
       "      <td>NaN</td>\n",
       "    </tr>\n",
       "    <tr>\n",
       "      <th>2016.1711</th>\n",
       "      <td>44.274</td>\n",
       "      <td>83.829</td>\n",
       "      <td>NaN</td>\n",
       "    </tr>\n",
       "    <tr>\n",
       "      <th>2016.1983</th>\n",
       "      <td>33.961</td>\n",
       "      <td>86.020</td>\n",
       "      <td>NaN</td>\n",
       "    </tr>\n",
       "    <tr>\n",
       "      <th>2016.2254</th>\n",
       "      <td>42.199</td>\n",
       "      <td>88.122</td>\n",
       "      <td>NaN</td>\n",
       "    </tr>\n",
       "    <tr>\n",
       "      <th>2016.2526</th>\n",
       "      <td>45.004</td>\n",
       "      <td>88.090</td>\n",
       "      <td>NaN</td>\n",
       "    </tr>\n",
       "    <tr>\n",
       "      <th>2016.2797</th>\n",
       "      <td>49.809</td>\n",
       "      <td>87.806</td>\n",
       "      <td>NaN</td>\n",
       "    </tr>\n",
       "    <tr>\n",
       "      <th>2016.3068</th>\n",
       "      <td>55.401</td>\n",
       "      <td>77.270</td>\n",
       "      <td>NaN</td>\n",
       "    </tr>\n",
       "    <tr>\n",
       "      <th>2016.3340</th>\n",
       "      <td>50.416</td>\n",
       "      <td>70.916</td>\n",
       "      <td>NaN</td>\n",
       "    </tr>\n",
       "  </tbody>\n",
       "</table>\n",
       "<p>861 rows × 3 columns</p>\n",
       "</div>"
      ],
      "text/plain": [
       "           northern_hem  southern_hem  mean_global\n",
       "date                                              \n",
       "1992.9323        13.717         2.517          NaN\n",
       "1992.9595         1.328        -7.645       -5.818\n",
       "1992.9866       -13.375        -2.267       -7.525\n",
       "1993.0138       -24.723         0.855       -9.215\n",
       "1993.0409       -29.231        -2.020      -11.796\n",
       "1993.0681       -32.538        -0.398      -11.291\n",
       "1993.0952       -35.588         4.102       -9.569\n",
       "1993.1223       -26.579         6.787       -3.714\n",
       "...                 ...           ...          ...\n",
       "2016.1440        49.218        84.902          NaN\n",
       "2016.1711        44.274        83.829          NaN\n",
       "2016.1983        33.961        86.020          NaN\n",
       "2016.2254        42.199        88.122          NaN\n",
       "2016.2526        45.004        88.090          NaN\n",
       "2016.2797        49.809        87.806          NaN\n",
       "2016.3068        55.401        77.270          NaN\n",
       "2016.3340        50.416        70.916          NaN\n",
       "\n",
       "[861 rows x 3 columns]"
      ]
     },
     "execution_count": 67,
     "metadata": {},
     "output_type": "execute_result"
    }
   ],
   "source": [
    "mean_sea_level[\"mean_global\"] = global_sea_level[\"msl_ib_ns(mm)\"]\n",
    "mean_sea_level"
   ]
  },
  {
   "cell_type": "markdown",
   "metadata": {},
   "source": [
    "**EXERCISE:** Create a new series containing the average of the 2 hemispheres minus the global value to see if that is close to 0. Work inside the mean_sea_level dataframe first. Then try with the original Series to see what happens with data alignment while doing computations."
   ]
  },
  {
   "cell_type": "code",
   "execution_count": null,
   "metadata": {
    "collapsed": false
   },
   "outputs": [],
   "source": [
    "# Your code here"
   ]
  },
  {
   "cell_type": "markdown",
   "metadata": {},
   "source": [
    "### Changing dtype of series"
   ]
  },
  {
   "cell_type": "markdown",
   "metadata": {},
   "source": [
    "Now that the sea levels are looking pretty good, let's got back to the GISS temperature dataset. Because of the labels (strings) found in the middle of the timeseries, every column only assumed to contain strings (didn't convert them to floating point values):"
   ]
  },
  {
   "cell_type": "code",
   "execution_count": 68,
   "metadata": {
    "collapsed": false
   },
   "outputs": [
    {
     "data": {
      "text/plain": [
       "Jan    object\n",
       "Feb    object\n",
       "Mar    object\n",
       "Apr    object\n",
       "May    object\n",
       "Jun    object\n",
       "Jul    object\n",
       "Aug    object\n",
       "Sep    object\n",
       "Oct    object\n",
       "Nov    object\n",
       "Dec    object\n",
       "dtype: object"
      ]
     },
     "execution_count": 68,
     "metadata": {},
     "output_type": "execute_result"
    }
   ],
   "source": [
    "giss_temp.dtypes"
   ]
  },
  {
   "cell_type": "markdown",
   "metadata": {},
   "source": [
    "That can be changed after the fact (and after the cleanup) with the `astype` method of a `Series`:"
   ]
  },
  {
   "cell_type": "code",
   "execution_count": 69,
   "metadata": {
    "collapsed": false
   },
   "outputs": [
    {
     "data": {
      "text/plain": [
       "Year\n",
       "1880   -34.0\n",
       "1881   -13.0\n",
       "1882     3.0\n",
       "1883   -38.0\n",
       "1884   -20.0\n",
       "1885   -57.0\n",
       "1886   -37.0\n",
       "1887   -60.0\n",
       "        ... \n",
       "2008    22.0\n",
       "2009    56.0\n",
       "2010    66.0\n",
       "2011    45.0\n",
       "2012    38.0\n",
       "2013    62.0\n",
       "2014    68.0\n",
       "2015    75.0\n",
       "Name: Jan, dtype: float32"
      ]
     },
     "execution_count": 69,
     "metadata": {},
     "output_type": "execute_result"
    }
   ],
   "source": [
    "giss_temp[\"Jan\"].astype(\"float32\")"
   ]
  },
  {
   "cell_type": "code",
   "execution_count": 71,
   "metadata": {
    "collapsed": false
   },
   "outputs": [],
   "source": [
    "for col in giss_temp.columns:\n",
    "    giss_temp.loc[:, col] = giss_temp[col].astype(np.float32)"
   ]
  },
  {
   "cell_type": "markdown",
   "metadata": {},
   "source": [
    "An index has a `dtype` just like any Series and that can be changed after the fact too."
   ]
  },
  {
   "cell_type": "code",
   "execution_count": 72,
   "metadata": {
    "collapsed": false
   },
   "outputs": [
    {
     "data": {
      "text/plain": [
       "dtype('O')"
      ]
     },
     "execution_count": 72,
     "metadata": {},
     "output_type": "execute_result"
    }
   ],
   "source": [
    "giss_temp.index.dtype"
   ]
  },
  {
   "cell_type": "markdown",
   "metadata": {},
   "source": [
    "For now, let's change it to an integer so that values can at least be compared properly. We will learn below to change it to a datetime object."
   ]
  },
  {
   "cell_type": "code",
   "execution_count": 73,
   "metadata": {
    "collapsed": false
   },
   "outputs": [],
   "source": [
    "giss_temp.index = giss_temp.index.astype(np.int32)"
   ]
  },
  {
   "cell_type": "markdown",
   "metadata": {},
   "source": [
    "### Removing missing values"
   ]
  },
  {
   "cell_type": "markdown",
   "metadata": {},
   "source": [
    "Removing missing values - once they have been converted to `np.nan` - is very easy. Entries that contain missing values can be removed (dropped), or filled with many strategies."
   ]
  },
  {
   "cell_type": "code",
   "execution_count": 74,
   "metadata": {
    "collapsed": false
   },
   "outputs": [
    {
     "data": {
      "text/plain": [
       "0   -0.1591\n",
       "1   -0.0789\n",
       "2   -0.1313\n",
       "3   -0.1675\n",
       "4   -0.2485\n",
       "Name: mean temp, dtype: float64"
      ]
     },
     "execution_count": 74,
     "metadata": {},
     "output_type": "execute_result"
    }
   ],
   "source": [
    "full_globe_temp.head()"
   ]
  },
  {
   "cell_type": "code",
   "execution_count": 75,
   "metadata": {
    "collapsed": false
   },
   "outputs": [
    {
     "data": {
      "text/plain": [
       "0     -0.1591\n",
       "1     -0.0789\n",
       "2     -0.1313\n",
       "3     -0.1675\n",
       "4     -0.2485\n",
       "5     -0.2042\n",
       "6     -0.1695\n",
       "7     -0.2505\n",
       "        ...  \n",
       "122    0.5745\n",
       "123    0.5818\n",
       "124    0.5416\n",
       "125    0.6154\n",
       "126    0.5601\n",
       "127    0.5472\n",
       "128    0.4804\n",
       "129    0.5551\n",
       "Name: mean temp, dtype: float64"
      ]
     },
     "execution_count": 75,
     "metadata": {},
     "output_type": "execute_result"
    }
   ],
   "source": [
    "full_globe_temp.dropna()"
   ]
  },
  {
   "cell_type": "code",
   "execution_count": 76,
   "metadata": {
    "collapsed": false
   },
   "outputs": [
    {
     "data": {
      "text/html": [
       "<div>\n",
       "<table border=\"1\" class=\"dataframe\">\n",
       "  <thead>\n",
       "    <tr style=\"text-align: right;\">\n",
       "      <th></th>\n",
       "      <th>Jan</th>\n",
       "      <th>Feb</th>\n",
       "      <th>Mar</th>\n",
       "      <th>Apr</th>\n",
       "      <th>May</th>\n",
       "      <th>Jun</th>\n",
       "      <th>Jul</th>\n",
       "      <th>Aug</th>\n",
       "      <th>Sep</th>\n",
       "      <th>Oct</th>\n",
       "      <th>Nov</th>\n",
       "      <th>Dec</th>\n",
       "    </tr>\n",
       "    <tr>\n",
       "      <th>Year</th>\n",
       "      <th></th>\n",
       "      <th></th>\n",
       "      <th></th>\n",
       "      <th></th>\n",
       "      <th></th>\n",
       "      <th></th>\n",
       "      <th></th>\n",
       "      <th></th>\n",
       "      <th></th>\n",
       "      <th></th>\n",
       "      <th></th>\n",
       "      <th></th>\n",
       "    </tr>\n",
       "  </thead>\n",
       "  <tbody>\n",
       "    <tr>\n",
       "      <th>2010</th>\n",
       "      <td>66.0</td>\n",
       "      <td>75.0</td>\n",
       "      <td>87.0</td>\n",
       "      <td>82.0</td>\n",
       "      <td>71.0</td>\n",
       "      <td>60.0</td>\n",
       "      <td>56.0</td>\n",
       "      <td>59.0</td>\n",
       "      <td>55.0</td>\n",
       "      <td>65.0</td>\n",
       "      <td>74.0</td>\n",
       "      <td>44.0</td>\n",
       "    </tr>\n",
       "    <tr>\n",
       "      <th>2011</th>\n",
       "      <td>45.0</td>\n",
       "      <td>44.0</td>\n",
       "      <td>57.0</td>\n",
       "      <td>60.0</td>\n",
       "      <td>47.0</td>\n",
       "      <td>54.0</td>\n",
       "      <td>70.0</td>\n",
       "      <td>69.0</td>\n",
       "      <td>52.0</td>\n",
       "      <td>60.0</td>\n",
       "      <td>50.0</td>\n",
       "      <td>48.0</td>\n",
       "    </tr>\n",
       "    <tr>\n",
       "      <th>2012</th>\n",
       "      <td>38.0</td>\n",
       "      <td>43.0</td>\n",
       "      <td>52.0</td>\n",
       "      <td>62.0</td>\n",
       "      <td>71.0</td>\n",
       "      <td>59.0</td>\n",
       "      <td>50.0</td>\n",
       "      <td>56.0</td>\n",
       "      <td>68.0</td>\n",
       "      <td>73.0</td>\n",
       "      <td>69.0</td>\n",
       "      <td>46.0</td>\n",
       "    </tr>\n",
       "    <tr>\n",
       "      <th>2013</th>\n",
       "      <td>62.0</td>\n",
       "      <td>52.0</td>\n",
       "      <td>60.0</td>\n",
       "      <td>48.0</td>\n",
       "      <td>56.0</td>\n",
       "      <td>61.0</td>\n",
       "      <td>53.0</td>\n",
       "      <td>61.0</td>\n",
       "      <td>73.0</td>\n",
       "      <td>61.0</td>\n",
       "      <td>75.0</td>\n",
       "      <td>61.0</td>\n",
       "    </tr>\n",
       "    <tr>\n",
       "      <th>2014</th>\n",
       "      <td>68.0</td>\n",
       "      <td>44.0</td>\n",
       "      <td>71.0</td>\n",
       "      <td>72.0</td>\n",
       "      <td>79.0</td>\n",
       "      <td>62.0</td>\n",
       "      <td>50.0</td>\n",
       "      <td>74.0</td>\n",
       "      <td>81.0</td>\n",
       "      <td>78.0</td>\n",
       "      <td>64.0</td>\n",
       "      <td>74.0</td>\n",
       "    </tr>\n",
       "  </tbody>\n",
       "</table>\n",
       "</div>"
      ],
      "text/plain": [
       "       Jan   Feb   Mar   Apr   May   Jun   Jul   Aug   Sep   Oct   Nov   Dec\n",
       "Year                                                                        \n",
       "2010  66.0  75.0  87.0  82.0  71.0  60.0  56.0  59.0  55.0  65.0  74.0  44.0\n",
       "2011  45.0  44.0  57.0  60.0  47.0  54.0  70.0  69.0  52.0  60.0  50.0  48.0\n",
       "2012  38.0  43.0  52.0  62.0  71.0  59.0  50.0  56.0  68.0  73.0  69.0  46.0\n",
       "2013  62.0  52.0  60.0  48.0  56.0  61.0  53.0  61.0  73.0  61.0  75.0  61.0\n",
       "2014  68.0  44.0  71.0  72.0  79.0  62.0  50.0  74.0  81.0  78.0  64.0  74.0"
      ]
     },
     "execution_count": 76,
     "metadata": {},
     "output_type": "execute_result"
    }
   ],
   "source": [
    "# This will remove any year that has a missing value. Use how='all' to keep partial years\n",
    "giss_temp.dropna(how=\"any\").tail()"
   ]
  },
  {
   "cell_type": "code",
   "execution_count": 77,
   "metadata": {
    "collapsed": false
   },
   "outputs": [
    {
     "data": {
      "text/html": [
       "<div>\n",
       "<table border=\"1\" class=\"dataframe\">\n",
       "  <thead>\n",
       "    <tr style=\"text-align: right;\">\n",
       "      <th></th>\n",
       "      <th>Jan</th>\n",
       "      <th>Feb</th>\n",
       "      <th>Mar</th>\n",
       "      <th>Apr</th>\n",
       "      <th>May</th>\n",
       "      <th>Jun</th>\n",
       "      <th>Jul</th>\n",
       "      <th>Aug</th>\n",
       "      <th>Sep</th>\n",
       "      <th>Oct</th>\n",
       "      <th>Nov</th>\n",
       "      <th>Dec</th>\n",
       "    </tr>\n",
       "    <tr>\n",
       "      <th>Year</th>\n",
       "      <th></th>\n",
       "      <th></th>\n",
       "      <th></th>\n",
       "      <th></th>\n",
       "      <th></th>\n",
       "      <th></th>\n",
       "      <th></th>\n",
       "      <th></th>\n",
       "      <th></th>\n",
       "      <th></th>\n",
       "      <th></th>\n",
       "      <th></th>\n",
       "    </tr>\n",
       "  </thead>\n",
       "  <tbody>\n",
       "    <tr>\n",
       "      <th>2011</th>\n",
       "      <td>45.0</td>\n",
       "      <td>44.0</td>\n",
       "      <td>57.0</td>\n",
       "      <td>60.0</td>\n",
       "      <td>47.0</td>\n",
       "      <td>54.0</td>\n",
       "      <td>70.0</td>\n",
       "      <td>69.0</td>\n",
       "      <td>52.0</td>\n",
       "      <td>60.0</td>\n",
       "      <td>50.0</td>\n",
       "      <td>48.0</td>\n",
       "    </tr>\n",
       "    <tr>\n",
       "      <th>2012</th>\n",
       "      <td>38.0</td>\n",
       "      <td>43.0</td>\n",
       "      <td>52.0</td>\n",
       "      <td>62.0</td>\n",
       "      <td>71.0</td>\n",
       "      <td>59.0</td>\n",
       "      <td>50.0</td>\n",
       "      <td>56.0</td>\n",
       "      <td>68.0</td>\n",
       "      <td>73.0</td>\n",
       "      <td>69.0</td>\n",
       "      <td>46.0</td>\n",
       "    </tr>\n",
       "    <tr>\n",
       "      <th>2013</th>\n",
       "      <td>62.0</td>\n",
       "      <td>52.0</td>\n",
       "      <td>60.0</td>\n",
       "      <td>48.0</td>\n",
       "      <td>56.0</td>\n",
       "      <td>61.0</td>\n",
       "      <td>53.0</td>\n",
       "      <td>61.0</td>\n",
       "      <td>73.0</td>\n",
       "      <td>61.0</td>\n",
       "      <td>75.0</td>\n",
       "      <td>61.0</td>\n",
       "    </tr>\n",
       "    <tr>\n",
       "      <th>2014</th>\n",
       "      <td>68.0</td>\n",
       "      <td>44.0</td>\n",
       "      <td>71.0</td>\n",
       "      <td>72.0</td>\n",
       "      <td>79.0</td>\n",
       "      <td>62.0</td>\n",
       "      <td>50.0</td>\n",
       "      <td>74.0</td>\n",
       "      <td>81.0</td>\n",
       "      <td>78.0</td>\n",
       "      <td>64.0</td>\n",
       "      <td>74.0</td>\n",
       "    </tr>\n",
       "    <tr>\n",
       "      <th>2015</th>\n",
       "      <td>75.0</td>\n",
       "      <td>80.0</td>\n",
       "      <td>84.0</td>\n",
       "      <td>71.0</td>\n",
       "      <td>0.0</td>\n",
       "      <td>0.0</td>\n",
       "      <td>0.0</td>\n",
       "      <td>0.0</td>\n",
       "      <td>0.0</td>\n",
       "      <td>0.0</td>\n",
       "      <td>0.0</td>\n",
       "      <td>0.0</td>\n",
       "    </tr>\n",
       "  </tbody>\n",
       "</table>\n",
       "</div>"
      ],
      "text/plain": [
       "       Jan   Feb   Mar   Apr   May   Jun   Jul   Aug   Sep   Oct   Nov   Dec\n",
       "Year                                                                        \n",
       "2011  45.0  44.0  57.0  60.0  47.0  54.0  70.0  69.0  52.0  60.0  50.0  48.0\n",
       "2012  38.0  43.0  52.0  62.0  71.0  59.0  50.0  56.0  68.0  73.0  69.0  46.0\n",
       "2013  62.0  52.0  60.0  48.0  56.0  61.0  53.0  61.0  73.0  61.0  75.0  61.0\n",
       "2014  68.0  44.0  71.0  72.0  79.0  62.0  50.0  74.0  81.0  78.0  64.0  74.0\n",
       "2015  75.0  80.0  84.0  71.0   0.0   0.0   0.0   0.0   0.0   0.0   0.0   0.0"
      ]
     },
     "execution_count": 77,
     "metadata": {},
     "output_type": "execute_result"
    }
   ],
   "source": [
    "giss_temp.fillna(value=0).tail()"
   ]
  },
  {
   "cell_type": "code",
   "execution_count": 78,
   "metadata": {
    "collapsed": false
   },
   "outputs": [
    {
     "data": {
      "text/html": [
       "<div>\n",
       "<table border=\"1\" class=\"dataframe\">\n",
       "  <thead>\n",
       "    <tr style=\"text-align: right;\">\n",
       "      <th></th>\n",
       "      <th>Jan</th>\n",
       "      <th>Feb</th>\n",
       "      <th>Mar</th>\n",
       "      <th>Apr</th>\n",
       "      <th>May</th>\n",
       "      <th>Jun</th>\n",
       "      <th>Jul</th>\n",
       "      <th>Aug</th>\n",
       "      <th>Sep</th>\n",
       "      <th>Oct</th>\n",
       "      <th>Nov</th>\n",
       "      <th>Dec</th>\n",
       "    </tr>\n",
       "    <tr>\n",
       "      <th>Year</th>\n",
       "      <th></th>\n",
       "      <th></th>\n",
       "      <th></th>\n",
       "      <th></th>\n",
       "      <th></th>\n",
       "      <th></th>\n",
       "      <th></th>\n",
       "      <th></th>\n",
       "      <th></th>\n",
       "      <th></th>\n",
       "      <th></th>\n",
       "      <th></th>\n",
       "    </tr>\n",
       "  </thead>\n",
       "  <tbody>\n",
       "    <tr>\n",
       "      <th>2011</th>\n",
       "      <td>45.0</td>\n",
       "      <td>44.0</td>\n",
       "      <td>57.0</td>\n",
       "      <td>60.0</td>\n",
       "      <td>47.0</td>\n",
       "      <td>54.0</td>\n",
       "      <td>70.0</td>\n",
       "      <td>69.0</td>\n",
       "      <td>52.0</td>\n",
       "      <td>60.0</td>\n",
       "      <td>50.0</td>\n",
       "      <td>48.0</td>\n",
       "    </tr>\n",
       "    <tr>\n",
       "      <th>2012</th>\n",
       "      <td>38.0</td>\n",
       "      <td>43.0</td>\n",
       "      <td>52.0</td>\n",
       "      <td>62.0</td>\n",
       "      <td>71.0</td>\n",
       "      <td>59.0</td>\n",
       "      <td>50.0</td>\n",
       "      <td>56.0</td>\n",
       "      <td>68.0</td>\n",
       "      <td>73.0</td>\n",
       "      <td>69.0</td>\n",
       "      <td>46.0</td>\n",
       "    </tr>\n",
       "    <tr>\n",
       "      <th>2013</th>\n",
       "      <td>62.0</td>\n",
       "      <td>52.0</td>\n",
       "      <td>60.0</td>\n",
       "      <td>48.0</td>\n",
       "      <td>56.0</td>\n",
       "      <td>61.0</td>\n",
       "      <td>53.0</td>\n",
       "      <td>61.0</td>\n",
       "      <td>73.0</td>\n",
       "      <td>61.0</td>\n",
       "      <td>75.0</td>\n",
       "      <td>61.0</td>\n",
       "    </tr>\n",
       "    <tr>\n",
       "      <th>2014</th>\n",
       "      <td>68.0</td>\n",
       "      <td>44.0</td>\n",
       "      <td>71.0</td>\n",
       "      <td>72.0</td>\n",
       "      <td>79.0</td>\n",
       "      <td>62.0</td>\n",
       "      <td>50.0</td>\n",
       "      <td>74.0</td>\n",
       "      <td>81.0</td>\n",
       "      <td>78.0</td>\n",
       "      <td>64.0</td>\n",
       "      <td>74.0</td>\n",
       "    </tr>\n",
       "    <tr>\n",
       "      <th>2015</th>\n",
       "      <td>75.0</td>\n",
       "      <td>80.0</td>\n",
       "      <td>84.0</td>\n",
       "      <td>71.0</td>\n",
       "      <td>79.0</td>\n",
       "      <td>62.0</td>\n",
       "      <td>50.0</td>\n",
       "      <td>74.0</td>\n",
       "      <td>81.0</td>\n",
       "      <td>78.0</td>\n",
       "      <td>64.0</td>\n",
       "      <td>74.0</td>\n",
       "    </tr>\n",
       "  </tbody>\n",
       "</table>\n",
       "</div>"
      ],
      "text/plain": [
       "       Jan   Feb   Mar   Apr   May   Jun   Jul   Aug   Sep   Oct   Nov   Dec\n",
       "Year                                                                        \n",
       "2011  45.0  44.0  57.0  60.0  47.0  54.0  70.0  69.0  52.0  60.0  50.0  48.0\n",
       "2012  38.0  43.0  52.0  62.0  71.0  59.0  50.0  56.0  68.0  73.0  69.0  46.0\n",
       "2013  62.0  52.0  60.0  48.0  56.0  61.0  53.0  61.0  73.0  61.0  75.0  61.0\n",
       "2014  68.0  44.0  71.0  72.0  79.0  62.0  50.0  74.0  81.0  78.0  64.0  74.0\n",
       "2015  75.0  80.0  84.0  71.0  79.0  62.0  50.0  74.0  81.0  78.0  64.0  74.0"
      ]
     },
     "execution_count": 78,
     "metadata": {},
     "output_type": "execute_result"
    }
   ],
   "source": [
    "# This fills them with the previous year. See also temp3.interpolate\n",
    "giss_temp.fillna(method=\"ffill\").tail()"
   ]
  },
  {
   "cell_type": "markdown",
   "metadata": {},
   "source": [
    "Let's also mention the `.interpolate` method on a `Series`:"
   ]
  },
  {
   "cell_type": "code",
   "execution_count": 79,
   "metadata": {
    "collapsed": false
   },
   "outputs": [
    {
     "data": {
      "text/plain": [
       "Year\n",
       "2011    69.0\n",
       "2012    56.0\n",
       "2013    61.0\n",
       "2014    74.0\n",
       "2015    74.0\n",
       "Name: Aug, dtype: float32"
      ]
     },
     "execution_count": 79,
     "metadata": {},
     "output_type": "execute_result"
    }
   ],
   "source": [
    "giss_temp.Aug.interpolate().tail()"
   ]
  },
  {
   "cell_type": "markdown",
   "metadata": {},
   "source": [
    "For now, we will leave the missing values in all our datasets, because it wouldn't be meaningful to fill them."
   ]
  },
  {
   "cell_type": "markdown",
   "metadata": {},
   "source": [
    "**EXERCISE:** Go back to the reading functions, and learn more about other options that could have allowed us to fold some of these pre-processing steps into the data loading."
   ]
  },
  {
   "cell_type": "markdown",
   "metadata": {},
   "source": [
    "## 4. Basic visualization"
   ]
  },
  {
   "cell_type": "markdown",
   "metadata": {},
   "source": [
    "Now they have been formatted, visualizing your datasets is the next logical step and is trivial with Pandas. The first thing to try is to invoke the `.plot` to generate a basic visualization (uses matplotlib under the covers)."
   ]
  },
  {
   "cell_type": "markdown",
   "metadata": {},
   "source": [
    "### Line plots"
   ]
  },
  {
   "cell_type": "code",
   "execution_count": 80,
   "metadata": {
    "collapsed": false
   },
   "outputs": [
    {
     "data": {
      "text/plain": [
       "<matplotlib.axes._subplots.AxesSubplot at 0x7fc6e08579b0>"
      ]
     },
     "execution_count": 80,
     "metadata": {},
     "output_type": "execute_result"
    },
    {
     "data": {
      "image/png": "[encoded data removed]",
      "text/plain": [
       "<matplotlib.figure.Figure at 0x7fc6e087d9e8>"
      ]
     },
     "metadata": {},
     "output_type": "display_data"
    }
   ],
   "source": [
    "full_globe_temp.plot()"
   ]
  },
  {
   "cell_type": "code",
   "execution_count": 81,
   "metadata": {
    "collapsed": false
   },
   "outputs": [
    {
     "data": {
      "text/plain": [
       "<matplotlib.axes._subplots.AxesSubplot at 0x7fc6e087a2e8>"
      ]
     },
     "execution_count": 81,
     "metadata": {},
     "output_type": "execute_result"
    },
    {
     "data": {
      "image/png": "[encoded data removed]",
      "text/plain": [
       "<matplotlib.figure.Figure at 0x7fc6e08454a8>"
      ]
     },
     "metadata": {},
     "output_type": "display_data"
    }
   ],
   "source": [
    "giss_temp.plot(figsize=LARGE_FIGSIZE)"
   ]
  },
  {
   "cell_type": "code",
   "execution_count": 82,
   "metadata": {
    "collapsed": false
   },
   "outputs": [
    {
     "data": {
      "image/png": "[encoded data removed]",
      "text/plain": [
       "<matplotlib.figure.Figure at 0x7fc6e0fc49b0>"
      ]
     },
     "metadata": {},
     "output_type": "display_data"
    }
   ],
   "source": [
    "mean_sea_level.plot(subplots=True, figsize=(16, 12));"
   ]
  },
  {
   "cell_type": "markdown",
   "metadata": {},
   "source": [
    "### Showing distributions information"
   ]
  },
  {
   "cell_type": "code",
   "execution_count": 83,
   "metadata": {
    "collapsed": false
   },
   "outputs": [
    {
     "data": {
      "text/plain": [
       "<matplotlib.axes._subplots.AxesSubplot at 0x7fc6e094ec18>"
      ]
     },
     "execution_count": 83,
     "metadata": {},
     "output_type": "execute_result"
    },
    {
     "data": {
      "image/png": "[encoded data removed]",
      "text/plain": [
       "<matplotlib.figure.Figure at 0x7fc6e096f208>"
      ]
     },
     "metadata": {},
     "output_type": "display_data"
    }
   ],
   "source": [
    "# Distributions of mean sean level globally and per hemisphere?\n",
    "mean_sea_level.plot(kind=\"kde\", figsize=(12, 8))"
   ]
  },
  {
   "cell_type": "markdown",
   "metadata": {},
   "source": [
    "**QUIZ:** How to list the possible kinds of plots that the plot method can allow?"
   ]
  },
  {
   "cell_type": "code",
   "execution_count": 84,
   "metadata": {
    "collapsed": false
   },
   "outputs": [
    {
     "name": "stderr",
     "output_type": "stream",
     "text": [
      "/home/hans/anaconda3/lib/python3.5/site-packages/ipykernel/__main__.py:2: FutureWarning: \n",
      "The default value for 'return_type' will change to 'axes' in a future release.\n",
      " To use the future behavior now, set return_type='axes'.\n",
      " To keep the previous behavior and silence this warning, set return_type='dict'.\n",
      "  from ipykernel import kernelapp as app\n"
     ]
    },
    {
     "data": {
      "image/png": "[encoded data removed]",
      "text/plain": [
       "<matplotlib.figure.Figure at 0x7fc6e096beb8>"
      ]
     },
     "metadata": {},
     "output_type": "display_data"
    }
   ],
   "source": [
    "# Distributions of temperature in each month since 1880\n",
    "giss_temp.boxplot();"
   ]
  },
  {
   "cell_type": "markdown",
   "metadata": {},
   "source": [
    "### Correlations"
   ]
  },
  {
   "cell_type": "markdown",
   "metadata": {},
   "source": [
    "There are more plot options inside `pandas.tools.plotting`:"
   ]
  },
  {
   "cell_type": "code",
   "execution_count": 85,
   "metadata": {
    "collapsed": false
   },
   "outputs": [
    {
     "data": {
      "image/png": "[encoded data removed]",
      "text/plain": [
       "<matplotlib.figure.Figure at 0x7fc6e08390b8>"
      ]
     },
     "metadata": {},
     "output_type": "display_data"
    }
   ],
   "source": [
    "# Is there correlations between the northern and southern sea level timeseries we loaded?\n",
    "from pandas.tools.plotting import scatter_matrix\n",
    "scatter_matrix(mean_sea_level, figsize=LARGE_FIGSIZE);"
   ]
  },
  {
   "cell_type": "markdown",
   "metadata": {},
   "source": [
    "We will confirm the correlations we think we see further down..."
   ]
  },
  {
   "cell_type": "markdown",
   "metadata": {},
   "source": [
    "## 5. Storing our work"
   ]
  },
  {
   "cell_type": "markdown",
   "metadata": {},
   "source": [
    "For each `read_**` function to load data, there is a `to_**` method attached to Series and DataFrames."
   ]
  },
  {
   "cell_type": "markdown",
   "metadata": {},
   "source": [
    "**EXERCISE**: explore how the to_csv method work using `ipython`'s ? and store the `giss_temp` dataframe. Do the same to store the full_globe_temp series to another file."
   ]
  },
  {
   "cell_type": "markdown",
   "metadata": {},
   "source": [
    "Another file format that is commonly used is Excel, and there multiple datasets can be stored in 1 file."
   ]
  },
  {
   "cell_type": "code",
   "execution_count": 86,
   "metadata": {
    "collapsed": true
   },
   "outputs": [],
   "source": [
    "writer = pd.ExcelWriter(\"test.xls\")"
   ]
  },
  {
   "cell_type": "code",
   "execution_count": 87,
   "metadata": {
    "collapsed": false
   },
   "outputs": [
    {
     "ename": "AttributeError",
     "evalue": "'Series' object has no attribute 'to_excel'",
     "output_type": "error",
     "traceback": [
      "\u001b[1;31m---------------------------------------------------------------------------\u001b[0m",
      "\u001b[1;31mAttributeError\u001b[0m                            Traceback (most recent call last)",
      "\u001b[1;32m<ipython-input-87-0bbd7ed04c14>\u001b[0m in \u001b[0;36m<module>\u001b[1;34m()\u001b[0m\n\u001b[0;32m      1\u001b[0m \u001b[0mgiss_temp\u001b[0m\u001b[1;33m.\u001b[0m\u001b[0mto_excel\u001b[0m\u001b[1;33m(\u001b[0m\u001b[0mwriter\u001b[0m\u001b[1;33m,\u001b[0m \u001b[0msheet_name\u001b[0m\u001b[1;33m=\u001b[0m\u001b[1;34m\"GISS temp data\"\u001b[0m\u001b[1;33m)\u001b[0m\u001b[1;33m\u001b[0m\u001b[0m\n\u001b[1;32m----> 2\u001b[1;33m \u001b[0mfull_globe_temp\u001b[0m\u001b[1;33m.\u001b[0m\u001b[0mto_excel\u001b[0m\u001b[1;33m(\u001b[0m\u001b[0mwriter\u001b[0m\u001b[1;33m,\u001b[0m \u001b[0msheet_name\u001b[0m\u001b[1;33m=\u001b[0m\u001b[1;34m\"NASA temp data\"\u001b[0m\u001b[1;33m)\u001b[0m\u001b[1;33m\u001b[0m\u001b[0m\n\u001b[0m",
      "\u001b[1;32m/home/hans/anaconda3/lib/python3.5/site-packages/pandas/core/generic.py\u001b[0m in \u001b[0;36m__getattr__\u001b[1;34m(self, name)\u001b[0m\n\u001b[0;32m   2670\u001b[0m             \u001b[1;32mif\u001b[0m \u001b[0mname\u001b[0m \u001b[1;32min\u001b[0m \u001b[0mself\u001b[0m\u001b[1;33m.\u001b[0m\u001b[0m_info_axis\u001b[0m\u001b[1;33m:\u001b[0m\u001b[1;33m\u001b[0m\u001b[0m\n\u001b[0;32m   2671\u001b[0m                 \u001b[1;32mreturn\u001b[0m \u001b[0mself\u001b[0m\u001b[1;33m[\u001b[0m\u001b[0mname\u001b[0m\u001b[1;33m]\u001b[0m\u001b[1;33m\u001b[0m\u001b[0m\n\u001b[1;32m-> 2672\u001b[1;33m             \u001b[1;32mreturn\u001b[0m \u001b[0mobject\u001b[0m\u001b[1;33m.\u001b[0m\u001b[0m__getattribute__\u001b[0m\u001b[1;33m(\u001b[0m\u001b[0mself\u001b[0m\u001b[1;33m,\u001b[0m \u001b[0mname\u001b[0m\u001b[1;33m)\u001b[0m\u001b[1;33m\u001b[0m\u001b[0m\n\u001b[0m\u001b[0;32m   2673\u001b[0m \u001b[1;33m\u001b[0m\u001b[0m\n\u001b[0;32m   2674\u001b[0m     \u001b[1;32mdef\u001b[0m \u001b[0m__setattr__\u001b[0m\u001b[1;33m(\u001b[0m\u001b[0mself\u001b[0m\u001b[1;33m,\u001b[0m \u001b[0mname\u001b[0m\u001b[1;33m,\u001b[0m \u001b[0mvalue\u001b[0m\u001b[1;33m)\u001b[0m\u001b[1;33m:\u001b[0m\u001b[1;33m\u001b[0m\u001b[0m\n",
      "\u001b[1;31mAttributeError\u001b[0m: 'Series' object has no attribute 'to_excel'"
     ]
    }
   ],
   "source": [
    "giss_temp.to_excel(writer, sheet_name=\"GISS temp data\")\n",
    "full_globe_temp.to_excel(writer, sheet_name=\"NASA temp data\")"
   ]
  },
  {
   "cell_type": "code",
   "execution_count": 88,
   "metadata": {
    "collapsed": true
   },
   "outputs": [],
   "source": [
    "writer.close()"
   ]
  },
  {
   "cell_type": "code",
   "execution_count": 89,
   "metadata": {
    "collapsed": false
   },
   "outputs": [],
   "source": [
    "with pd.ExcelWriter(\"test.xls\") as writer:\n",
    "    giss_temp.to_excel(writer, sheet_name=\"GISS temp data\")\n",
    "    pd.DataFrame({\"Full Globe Temp\": full_globe_temp}).to_excel(writer, sheet_name=\"FullGlobe temp data\")"
   ]
  },
  {
   "cell_type": "code",
   "execution_count": 90,
   "metadata": {
    "collapsed": false
   },
   "outputs": [
    {
     "name": "stdout",
     "output_type": "stream",
     "text": [
      "climate_timeseries-Part1.ipynb  \u001b[0m\u001b[01;34mdata\u001b[0m/     test.xls\r\n",
      "climate_timeseries-Part2.ipynb  \u001b[01;34msandbox\u001b[0m/\r\n"
     ]
    }
   ],
   "source": [
    "%ls"
   ]
  },
  {
   "cell_type": "markdown",
   "metadata": {},
   "source": [
    "Another, more powerful file format to store binary data, which allows us to store both `Series` and `DataFrame`s without having to cast anybody is HDF5."
   ]
  },
  {
   "cell_type": "code",
   "execution_count": 92,
   "metadata": {
    "collapsed": false
   },
   "outputs": [],
   "source": [
    "with pd.HDFStore(\"all_data.h5\") as writer:\n",
    "    giss_temp.to_hdf(writer, \"/temperatures/giss\")\n",
    "    full_globe_temp.to_hdf(writer, \"/temperatures/full_globe\")\n",
    "    mean_sea_level.to_hdf(writer, \"/sea_level/mean_sea_level\")\n",
    "    local_sea_level_stations.to_hdf(writer, \"/sea_level/stations\")"
   ]
  },
  {
   "cell_type": "markdown",
   "metadata": {},
   "source": [
    "**EXERCISE**: Add the greenhouse gas dataset in this data store. Store it in a separate folder."
   ]
  }
 ],
 "metadata": {
  "kernelspec": {
   "display_name": "Python [Root]",
   "language": "python",
   "name": "Python [Root]"
  },
  "language_info": {
   "codemirror_mode": {
    "name": "ipython",
    "version": 3
   },
   "file_extension": ".py",
   "mimetype": "text/x-python",
   "name": "python",
   "nbconvert_exporter": "python",
   "pygments_lexer": "ipython3",
   "version": "3.5.2"
  }
 },
 "nbformat": 4,
 "nbformat_minor": 0
}
